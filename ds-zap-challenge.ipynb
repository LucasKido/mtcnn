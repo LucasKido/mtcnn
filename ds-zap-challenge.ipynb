{
 "cells": [
  {
   "cell_type": "markdown",
   "metadata": {},
   "source": [
    "# Desafio Grupo Zap Data Science\n",
    "### O objetivo do desafio estimar um preço de venda para os apartamentos no dataset de teste."
   ]
  },
  {
   "cell_type": "markdown",
   "metadata": {},
   "source": [
    "# Importando libs"
   ]
  },
  {
   "cell_type": "code",
   "execution_count": 105,
   "metadata": {},
   "outputs": [],
   "source": [
    "import numpy as np\n",
    "import pandas as pd\n",
    "import json\n",
    "import matplotlib.pyplot as plt\n",
    "import seaborn as sns\n",
    "import math\n",
    "\n",
    "from sklearn.preprocessing import LabelEncoder\n",
    "from sklearn.ensemble import RandomForestRegressor\n",
    "from sklearn.model_selection import train_test_split\n",
    "from sklearn.metrics import mean_squared_error\n",
    "from scipy import stats\n",
    "from scipy.stats import norm\n",
    "\n",
    "pd.set_option('display.max_columns', None)\n",
    "pd.options.display.float_format = '{:,.6f}'.format"
   ]
  },
  {
   "cell_type": "markdown",
   "metadata": {},
   "source": [
    "# Importando os dados de treino e teste\n",
    "\n",
    "#### Abrindo o arquivo .json e lendo as linhas, pois cada objeto json está em uma linha. Assim teremos todos os objetos em forma de string, e precisamos iteralos para transformar cada linha de objeto em um dict através do json.loads. Utilizar o json_normalize do pandas para criar um dataframe com propriedades de dados aninhados."
   ]
  },
  {
   "cell_type": "code",
   "execution_count": 106,
   "metadata": {},
   "outputs": [],
   "source": [
    "# função responsável por ler um json, e normalizá-lo quando tem objetos aninhados.\n",
    "def read_normalize_json(file_path):\n",
    "    with open(file_path) as f:\n",
    "        data = f.readlines()\n",
    "\n",
    "    for i in range(len(data)):\n",
    "        data[i] = json.loads(data[i])\n",
    "        \n",
    "    return pd.json_normalize(data)\n",
    "\n",
    "    \n",
    "df_train = read_normalize_json('source-4-ds-train.json')\n",
    "df_test = read_normalize_json('source-4-ds-test.json')"
   ]
  },
  {
   "cell_type": "code",
   "execution_count": 107,
   "metadata": {},
   "outputs": [
    {
     "data": {
      "text/html": [
       "<div>\n",
       "<style scoped>\n",
       "    .dataframe tbody tr th:only-of-type {\n",
       "        vertical-align: middle;\n",
       "    }\n",
       "\n",
       "    .dataframe tbody tr th {\n",
       "        vertical-align: top;\n",
       "    }\n",
       "\n",
       "    .dataframe thead th {\n",
       "        text-align: right;\n",
       "    }\n",
       "</style>\n",
       "<table border=\"1\" class=\"dataframe\">\n",
       "  <thead>\n",
       "    <tr style=\"text-align: right;\">\n",
       "      <th></th>\n",
       "      <th>usableAreas</th>\n",
       "      <th>description</th>\n",
       "      <th>title</th>\n",
       "      <th>createdAt</th>\n",
       "      <th>publisherId</th>\n",
       "      <th>unitTypes</th>\n",
       "      <th>listingStatus</th>\n",
       "      <th>id</th>\n",
       "      <th>parkingSpaces</th>\n",
       "      <th>updatedAt</th>\n",
       "      <th>owner</th>\n",
       "      <th>images</th>\n",
       "      <th>suites</th>\n",
       "      <th>publicationType</th>\n",
       "      <th>bathrooms</th>\n",
       "      <th>totalAreas</th>\n",
       "      <th>bedrooms</th>\n",
       "      <th>address.country</th>\n",
       "      <th>address.zipCode</th>\n",
       "      <th>address.city</th>\n",
       "      <th>address.streetNumber</th>\n",
       "      <th>address.zone</th>\n",
       "      <th>address.geoLocation.precision</th>\n",
       "      <th>address.geoLocation.location.lon</th>\n",
       "      <th>address.geoLocation.location.lat</th>\n",
       "      <th>address.street</th>\n",
       "      <th>address.locationId</th>\n",
       "      <th>address.district</th>\n",
       "      <th>address.unitNumber</th>\n",
       "      <th>address.state</th>\n",
       "      <th>address.neighborhood</th>\n",
       "      <th>pricingInfos.price</th>\n",
       "      <th>pricingInfos.businessType</th>\n",
       "      <th>pricingInfos.period</th>\n",
       "      <th>pricingInfos.yearlyIptu</th>\n",
       "      <th>pricingInfos.rentalTotalPrice</th>\n",
       "      <th>pricingInfos.monthlyCondoFee</th>\n",
       "    </tr>\n",
       "  </thead>\n",
       "  <tbody>\n",
       "    <tr>\n",
       "      <th>0</th>\n",
       "      <td>388.000000</td>\n",
       "      <td>04 dorms sendo 01 suíte e closet, sala de esta...</td>\n",
       "      <td>PRÓXIMO A AVENIDA PRESIDENTE TANCREDO NEVES</td>\n",
       "      <td>2017-02-07T13:21:40Z</td>\n",
       "      <td>f4603b2b52</td>\n",
       "      <td>TWO_STORY_HOUSE</td>\n",
       "      <td>ACTIVE</td>\n",
       "      <td>787c7bd19d</td>\n",
       "      <td>6.000000</td>\n",
       "      <td>2018-12-06T19:27:12.623Z</td>\n",
       "      <td>False</td>\n",
       "      <td>[https://s3-sa-east-1.amazonaws.com/vr.images....</td>\n",
       "      <td>1.000000</td>\n",
       "      <td>STANDARD</td>\n",
       "      <td>3.000000</td>\n",
       "      <td>388.000000</td>\n",
       "      <td>4.000000</td>\n",
       "      <td>BR</td>\n",
       "      <td>04290030</td>\n",
       "      <td>São Paulo</td>\n",
       "      <td>53</td>\n",
       "      <td>Zona Sul</td>\n",
       "      <td>ROOFTOP</td>\n",
       "      <td>-46.614222</td>\n",
       "      <td>-23.612923</td>\n",
       "      <td>Rua Juvenal Galeno</td>\n",
       "      <td>BR&gt;Sao Paulo&gt;NULL&gt;Sao Paulo&gt;Zona Sul&gt;Jardim da...</td>\n",
       "      <td></td>\n",
       "      <td></td>\n",
       "      <td>São Paulo</td>\n",
       "      <td>Jardim da Saúde</td>\n",
       "      <td>700000</td>\n",
       "      <td>SALE</td>\n",
       "      <td>NaN</td>\n",
       "      <td>nan</td>\n",
       "      <td>nan</td>\n",
       "      <td>nan</td>\n",
       "    </tr>\n",
       "    <tr>\n",
       "      <th>1</th>\n",
       "      <td>129.000000</td>\n",
       "      <td>03 dorms sendo 01 suíte, sala, sala de jantar,...</td>\n",
       "      <td>PRÓXIMO A FACULDADE UNIP CAMPUS ANCHIETA</td>\n",
       "      <td>2016-03-21T18:35:17Z</td>\n",
       "      <td>f4603b2b52</td>\n",
       "      <td>HOME</td>\n",
       "      <td>ACTIVE</td>\n",
       "      <td>4d68c0cdbe</td>\n",
       "      <td>2.000000</td>\n",
       "      <td>2018-12-12T13:17:23.547Z</td>\n",
       "      <td>False</td>\n",
       "      <td>[https://s3-sa-east-1.amazonaws.com/vr.images....</td>\n",
       "      <td>1.000000</td>\n",
       "      <td>STANDARD</td>\n",
       "      <td>2.000000</td>\n",
       "      <td>129.000000</td>\n",
       "      <td>3.000000</td>\n",
       "      <td>BR</td>\n",
       "      <td>04187320</td>\n",
       "      <td>São Paulo</td>\n",
       "      <td>16</td>\n",
       "      <td>Zona Sul</td>\n",
       "      <td>RANGE_INTERPOLATED</td>\n",
       "      <td>-46.593475</td>\n",
       "      <td>-23.643962</td>\n",
       "      <td>Rua Juruaba</td>\n",
       "      <td>BR&gt;Sao Paulo&gt;NULL&gt;Sao Paulo&gt;Zona Sul&gt;Vila Liviero</td>\n",
       "      <td></td>\n",
       "      <td></td>\n",
       "      <td>São Paulo</td>\n",
       "      <td>Vila Santa Teresa (Zona Sul)</td>\n",
       "      <td>336000</td>\n",
       "      <td>SALE</td>\n",
       "      <td>NaN</td>\n",
       "      <td>nan</td>\n",
       "      <td>nan</td>\n",
       "      <td>nan</td>\n",
       "    </tr>\n",
       "    <tr>\n",
       "      <th>2</th>\n",
       "      <td>396.000000</td>\n",
       "      <td>Andar com 395,70m² de área útil, 04 wcs, 05 va...</td>\n",
       "      <td>Excelente Conjunto Comercial na Av. Paulista</td>\n",
       "      <td>2018-12-18T23:47:03.425Z</td>\n",
       "      <td>501f6d5e94</td>\n",
       "      <td>COMMERCIAL_PROPERTY</td>\n",
       "      <td>ACTIVE</td>\n",
       "      <td>e7e0b554ac</td>\n",
       "      <td>5.000000</td>\n",
       "      <td>NaN</td>\n",
       "      <td>False</td>\n",
       "      <td>[http://static.nidoimovel.com.br/d3d9446802a44...</td>\n",
       "      <td>0.000000</td>\n",
       "      <td>STANDARD</td>\n",
       "      <td>4.000000</td>\n",
       "      <td>nan</td>\n",
       "      <td>0.000000</td>\n",
       "      <td></td>\n",
       "      <td>01311000</td>\n",
       "      <td>São Paulo</td>\n",
       "      <td>402</td>\n",
       "      <td></td>\n",
       "      <td>ROOFTOP</td>\n",
       "      <td>-46.647452</td>\n",
       "      <td>-23.568559</td>\n",
       "      <td>Avenida Paulista</td>\n",
       "      <td>BR&gt;Sao Paulo&gt;NULL&gt;Sao Paulo&gt;Centro&gt;Cerqueira C...</td>\n",
       "      <td></td>\n",
       "      <td></td>\n",
       "      <td>São Paulo</td>\n",
       "      <td>Bela Vista</td>\n",
       "      <td>24929</td>\n",
       "      <td>RENTAL</td>\n",
       "      <td>MONTHLY</td>\n",
       "      <td>4,040.000000</td>\n",
       "      <td>29,829.000000</td>\n",
       "      <td>4,900.000000</td>\n",
       "    </tr>\n",
       "    <tr>\n",
       "      <th>3</th>\n",
       "      <td>80.000000</td>\n",
       "      <td>Viva melhor e de um jeito novo, com privilégio...</td>\n",
       "      <td>Apartamento com 80m², 2 vagas próximo ao Parqu...</td>\n",
       "      <td>2018-10-26T16:18:28.915Z</td>\n",
       "      <td>527c7b0cc0</td>\n",
       "      <td>APARTMENT</td>\n",
       "      <td>ACTIVE</td>\n",
       "      <td>6654d93423</td>\n",
       "      <td>2.000000</td>\n",
       "      <td>2018-11-08T16:38:35.434Z</td>\n",
       "      <td>False</td>\n",
       "      <td>[https://vr-prod-vivapro-images.s3.amazonaws.c...</td>\n",
       "      <td>1.000000</td>\n",
       "      <td>STANDARD</td>\n",
       "      <td>2.000000</td>\n",
       "      <td>80.000000</td>\n",
       "      <td>3.000000</td>\n",
       "      <td></td>\n",
       "      <td>04550004</td>\n",
       "      <td>São Paulo</td>\n",
       "      <td>1190</td>\n",
       "      <td></td>\n",
       "      <td>RANGE_INTERPOLATED</td>\n",
       "      <td>-46.682781</td>\n",
       "      <td>-23.598023</td>\n",
       "      <td>Rua Alvorada</td>\n",
       "      <td>BR&gt;Sao Paulo&gt;NULL&gt;Sao Paulo&gt;Zona Sul&gt;Vila Olimpia</td>\n",
       "      <td></td>\n",
       "      <td></td>\n",
       "      <td>São Paulo</td>\n",
       "      <td>Vila Olímpia</td>\n",
       "      <td>739643</td>\n",
       "      <td>SALE</td>\n",
       "      <td>NaN</td>\n",
       "      <td>1,610.000000</td>\n",
       "      <td>nan</td>\n",
       "      <td>686.000000</td>\n",
       "    </tr>\n",
       "    <tr>\n",
       "      <th>4</th>\n",
       "      <td>3,322.000000</td>\n",
       "      <td>Sua área é ocupada majoritariamente por instit...</td>\n",
       "      <td>Apartamento 332m², 4 suítes à venda próximo ao...</td>\n",
       "      <td>2018-12-14T18:06:51.342Z</td>\n",
       "      <td>527c7b0cc0</td>\n",
       "      <td>APARTMENT</td>\n",
       "      <td>ACTIVE</td>\n",
       "      <td>9ffaf676ae</td>\n",
       "      <td>5.000000</td>\n",
       "      <td>2018-12-14T18:06:55.140Z</td>\n",
       "      <td>False</td>\n",
       "      <td>[https://vr-prod-vivapro-images.s3.amazonaws.c...</td>\n",
       "      <td>4.000000</td>\n",
       "      <td>STANDARD</td>\n",
       "      <td>5.000000</td>\n",
       "      <td>332.000000</td>\n",
       "      <td>4.000000</td>\n",
       "      <td></td>\n",
       "      <td>04005030</td>\n",
       "      <td>São Paulo</td>\n",
       "      <td>380</td>\n",
       "      <td></td>\n",
       "      <td>RANGE_INTERPOLATED</td>\n",
       "      <td>-46.653027</td>\n",
       "      <td>-23.582497</td>\n",
       "      <td>Rua Curitiba</td>\n",
       "      <td>BR&gt;Sao Paulo&gt;NULL&gt;Sao Paulo&gt;Zona Sul&gt;Paraiso</td>\n",
       "      <td></td>\n",
       "      <td></td>\n",
       "      <td>São Paulo</td>\n",
       "      <td>Paraíso</td>\n",
       "      <td>7520099</td>\n",
       "      <td>SALE</td>\n",
       "      <td>NaN</td>\n",
       "      <td>18,900.000000</td>\n",
       "      <td>nan</td>\n",
       "      <td>6,230.000000</td>\n",
       "    </tr>\n",
       "  </tbody>\n",
       "</table>\n",
       "</div>"
      ],
      "text/plain": [
       "   usableAreas                                        description  \\\n",
       "0   388.000000  04 dorms sendo 01 suíte e closet, sala de esta...   \n",
       "1   129.000000  03 dorms sendo 01 suíte, sala, sala de jantar,...   \n",
       "2   396.000000  Andar com 395,70m² de área útil, 04 wcs, 05 va...   \n",
       "3    80.000000  Viva melhor e de um jeito novo, com privilégio...   \n",
       "4 3,322.000000  Sua área é ocupada majoritariamente por instit...   \n",
       "\n",
       "                                               title  \\\n",
       "0        PRÓXIMO A AVENIDA PRESIDENTE TANCREDO NEVES   \n",
       "1           PRÓXIMO A FACULDADE UNIP CAMPUS ANCHIETA   \n",
       "2       Excelente Conjunto Comercial na Av. Paulista   \n",
       "3  Apartamento com 80m², 2 vagas próximo ao Parqu...   \n",
       "4  Apartamento 332m², 4 suítes à venda próximo ao...   \n",
       "\n",
       "                  createdAt publisherId            unitTypes listingStatus  \\\n",
       "0      2017-02-07T13:21:40Z  f4603b2b52      TWO_STORY_HOUSE        ACTIVE   \n",
       "1      2016-03-21T18:35:17Z  f4603b2b52                 HOME        ACTIVE   \n",
       "2  2018-12-18T23:47:03.425Z  501f6d5e94  COMMERCIAL_PROPERTY        ACTIVE   \n",
       "3  2018-10-26T16:18:28.915Z  527c7b0cc0            APARTMENT        ACTIVE   \n",
       "4  2018-12-14T18:06:51.342Z  527c7b0cc0            APARTMENT        ACTIVE   \n",
       "\n",
       "           id  parkingSpaces                 updatedAt  owner  \\\n",
       "0  787c7bd19d       6.000000  2018-12-06T19:27:12.623Z  False   \n",
       "1  4d68c0cdbe       2.000000  2018-12-12T13:17:23.547Z  False   \n",
       "2  e7e0b554ac       5.000000                       NaN  False   \n",
       "3  6654d93423       2.000000  2018-11-08T16:38:35.434Z  False   \n",
       "4  9ffaf676ae       5.000000  2018-12-14T18:06:55.140Z  False   \n",
       "\n",
       "                                              images   suites publicationType  \\\n",
       "0  [https://s3-sa-east-1.amazonaws.com/vr.images.... 1.000000        STANDARD   \n",
       "1  [https://s3-sa-east-1.amazonaws.com/vr.images.... 1.000000        STANDARD   \n",
       "2  [http://static.nidoimovel.com.br/d3d9446802a44... 0.000000        STANDARD   \n",
       "3  [https://vr-prod-vivapro-images.s3.amazonaws.c... 1.000000        STANDARD   \n",
       "4  [https://vr-prod-vivapro-images.s3.amazonaws.c... 4.000000        STANDARD   \n",
       "\n",
       "   bathrooms  totalAreas  bedrooms address.country address.zipCode  \\\n",
       "0   3.000000  388.000000  4.000000              BR        04290030   \n",
       "1   2.000000  129.000000  3.000000              BR        04187320   \n",
       "2   4.000000         nan  0.000000                        01311000   \n",
       "3   2.000000   80.000000  3.000000                        04550004   \n",
       "4   5.000000  332.000000  4.000000                        04005030   \n",
       "\n",
       "  address.city address.streetNumber address.zone  \\\n",
       "0    São Paulo                   53     Zona Sul   \n",
       "1    São Paulo                   16     Zona Sul   \n",
       "2    São Paulo                  402                \n",
       "3    São Paulo                 1190                \n",
       "4    São Paulo                  380                \n",
       "\n",
       "  address.geoLocation.precision  address.geoLocation.location.lon  \\\n",
       "0                       ROOFTOP                        -46.614222   \n",
       "1            RANGE_INTERPOLATED                        -46.593475   \n",
       "2                       ROOFTOP                        -46.647452   \n",
       "3            RANGE_INTERPOLATED                        -46.682781   \n",
       "4            RANGE_INTERPOLATED                        -46.653027   \n",
       "\n",
       "   address.geoLocation.location.lat      address.street  \\\n",
       "0                        -23.612923  Rua Juvenal Galeno   \n",
       "1                        -23.643962         Rua Juruaba   \n",
       "2                        -23.568559    Avenida Paulista   \n",
       "3                        -23.598023        Rua Alvorada   \n",
       "4                        -23.582497        Rua Curitiba   \n",
       "\n",
       "                                  address.locationId address.district  \\\n",
       "0  BR>Sao Paulo>NULL>Sao Paulo>Zona Sul>Jardim da...                    \n",
       "1  BR>Sao Paulo>NULL>Sao Paulo>Zona Sul>Vila Liviero                    \n",
       "2  BR>Sao Paulo>NULL>Sao Paulo>Centro>Cerqueira C...                    \n",
       "3  BR>Sao Paulo>NULL>Sao Paulo>Zona Sul>Vila Olimpia                    \n",
       "4       BR>Sao Paulo>NULL>Sao Paulo>Zona Sul>Paraiso                    \n",
       "\n",
       "  address.unitNumber address.state          address.neighborhood  \\\n",
       "0                        São Paulo               Jardim da Saúde   \n",
       "1                        São Paulo  Vila Santa Teresa (Zona Sul)   \n",
       "2                        São Paulo                    Bela Vista   \n",
       "3                        São Paulo                  Vila Olímpia   \n",
       "4                        São Paulo                       Paraíso   \n",
       "\n",
       "   pricingInfos.price pricingInfos.businessType pricingInfos.period  \\\n",
       "0              700000                      SALE                 NaN   \n",
       "1              336000                      SALE                 NaN   \n",
       "2               24929                    RENTAL             MONTHLY   \n",
       "3              739643                      SALE                 NaN   \n",
       "4             7520099                      SALE                 NaN   \n",
       "\n",
       "   pricingInfos.yearlyIptu  pricingInfos.rentalTotalPrice  \\\n",
       "0                      nan                            nan   \n",
       "1                      nan                            nan   \n",
       "2             4,040.000000                  29,829.000000   \n",
       "3             1,610.000000                            nan   \n",
       "4            18,900.000000                            nan   \n",
       "\n",
       "   pricingInfos.monthlyCondoFee  \n",
       "0                           nan  \n",
       "1                           nan  \n",
       "2                  4,900.000000  \n",
       "3                    686.000000  \n",
       "4                  6,230.000000  "
      ]
     },
     "execution_count": 107,
     "metadata": {},
     "output_type": "execute_result"
    }
   ],
   "source": [
    "df_train.head()"
   ]
  },
  {
   "cell_type": "code",
   "execution_count": 108,
   "metadata": {},
   "outputs": [
    {
     "data": {
      "text/html": [
       "<div>\n",
       "<style scoped>\n",
       "    .dataframe tbody tr th:only-of-type {\n",
       "        vertical-align: middle;\n",
       "    }\n",
       "\n",
       "    .dataframe tbody tr th {\n",
       "        vertical-align: top;\n",
       "    }\n",
       "\n",
       "    .dataframe thead th {\n",
       "        text-align: right;\n",
       "    }\n",
       "</style>\n",
       "<table border=\"1\" class=\"dataframe\">\n",
       "  <thead>\n",
       "    <tr style=\"text-align: right;\">\n",
       "      <th></th>\n",
       "      <th>usableAreas</th>\n",
       "      <th>description</th>\n",
       "      <th>title</th>\n",
       "      <th>createdAt</th>\n",
       "      <th>publisherId</th>\n",
       "      <th>unitTypes</th>\n",
       "      <th>listingStatus</th>\n",
       "      <th>id</th>\n",
       "      <th>parkingSpaces</th>\n",
       "      <th>updatedAt</th>\n",
       "      <th>owner</th>\n",
       "      <th>images</th>\n",
       "      <th>suites</th>\n",
       "      <th>publicationType</th>\n",
       "      <th>bathrooms</th>\n",
       "      <th>totalAreas</th>\n",
       "      <th>bedrooms</th>\n",
       "      <th>address.country</th>\n",
       "      <th>address.zipCode</th>\n",
       "      <th>address.city</th>\n",
       "      <th>address.streetNumber</th>\n",
       "      <th>address.zone</th>\n",
       "      <th>address.geoLocation.precision</th>\n",
       "      <th>address.geoLocation.location.lon</th>\n",
       "      <th>address.geoLocation.location.lat</th>\n",
       "      <th>address.street</th>\n",
       "      <th>address.locationId</th>\n",
       "      <th>address.district</th>\n",
       "      <th>address.unitNumber</th>\n",
       "      <th>address.state</th>\n",
       "      <th>address.neighborhood</th>\n",
       "      <th>pricingInfos.price</th>\n",
       "      <th>pricingInfos.businessType</th>\n",
       "      <th>pricingInfos.yearlyIptu</th>\n",
       "      <th>pricingInfos.monthlyCondoFee</th>\n",
       "      <th>pricingInfos.period</th>\n",
       "      <th>pricingInfos.rentalTotalPrice</th>\n",
       "    </tr>\n",
       "  </thead>\n",
       "  <tbody>\n",
       "    <tr>\n",
       "      <th>0</th>\n",
       "      <td>47.000000</td>\n",
       "      <td>Apartamentos de 1 dormitório na Rua Bela Cintr...</td>\n",
       "      <td>Apartamento Bela Cintra</td>\n",
       "      <td>2015-10-20T20:52:41Z</td>\n",
       "      <td>967d57ce20</td>\n",
       "      <td>APARTMENT</td>\n",
       "      <td>ACTIVE</td>\n",
       "      <td>89224365f8</td>\n",
       "      <td>1.000000</td>\n",
       "      <td>2018-11-08T15:02:53.953Z</td>\n",
       "      <td>False</td>\n",
       "      <td>[https://s3-sa-east-1.amazonaws.com/vr.images....</td>\n",
       "      <td>0.000000</td>\n",
       "      <td>STANDARD</td>\n",
       "      <td>1.000000</td>\n",
       "      <td>47.000000</td>\n",
       "      <td>1</td>\n",
       "      <td>BR</td>\n",
       "      <td>01415000</td>\n",
       "      <td>São Paulo</td>\n",
       "      <td></td>\n",
       "      <td>Centro</td>\n",
       "      <td>GEOMETRIC_CENTER</td>\n",
       "      <td>-46.662765</td>\n",
       "      <td>-23.557225</td>\n",
       "      <td>Rua Bela Cintra</td>\n",
       "      <td>BR&gt;Sao Paulo&gt;NULL&gt;Sao Paulo&gt;Centro&gt;Consolacao</td>\n",
       "      <td></td>\n",
       "      <td></td>\n",
       "      <td>São Paulo</td>\n",
       "      <td>Consolação</td>\n",
       "      <td>None</td>\n",
       "      <td>SALE</td>\n",
       "      <td>nan</td>\n",
       "      <td>nan</td>\n",
       "      <td>NaN</td>\n",
       "      <td>nan</td>\n",
       "    </tr>\n",
       "    <tr>\n",
       "      <th>1</th>\n",
       "      <td>55.000000</td>\n",
       "      <td>Ótima localização, próximo ao shopping Central...</td>\n",
       "      <td>Apartamento residencial à venda, Quinta da Pai...</td>\n",
       "      <td>2018-07-31T06:10:07.427Z</td>\n",
       "      <td>bddebf057a</td>\n",
       "      <td>APARTMENT</td>\n",
       "      <td>ACTIVE</td>\n",
       "      <td>363731333f</td>\n",
       "      <td>1.000000</td>\n",
       "      <td>2018-11-08T16:10:49.374Z</td>\n",
       "      <td>False</td>\n",
       "      <td>[http://images.ingaiasites.com.br/AolwiwJLLpET...</td>\n",
       "      <td>0.000000</td>\n",
       "      <td>STANDARD</td>\n",
       "      <td>0.000000</td>\n",
       "      <td>55.000000</td>\n",
       "      <td>2</td>\n",
       "      <td>BR</td>\n",
       "      <td>03152155</td>\n",
       "      <td>São Paulo</td>\n",
       "      <td>100</td>\n",
       "      <td>Zona Leste</td>\n",
       "      <td>ROOFTOP</td>\n",
       "      <td>-46.581879</td>\n",
       "      <td>-23.592852</td>\n",
       "      <td>Rua Bruno Cavalcanti Feder</td>\n",
       "      <td>BR&gt;Sao Paulo&gt;NULL&gt;Sao Paulo&gt;Zona Leste&gt;Quinta ...</td>\n",
       "      <td></td>\n",
       "      <td></td>\n",
       "      <td>São Paulo</td>\n",
       "      <td>Quinta da Paineira</td>\n",
       "      <td>None</td>\n",
       "      <td>SALE</td>\n",
       "      <td>0.000000</td>\n",
       "      <td>0.000000</td>\n",
       "      <td>NaN</td>\n",
       "      <td>nan</td>\n",
       "    </tr>\n",
       "    <tr>\n",
       "      <th>2</th>\n",
       "      <td>92.000000</td>\n",
       "      <td>Apartamento maravilhoso com ampla sala ( abriu...</td>\n",
       "      <td>Apartamento em Santa Terezinha - São Paulo, SP</td>\n",
       "      <td>2018-01-25T13:57:14.203Z</td>\n",
       "      <td>d7190e8f4c</td>\n",
       "      <td>APARTMENT</td>\n",
       "      <td>ACTIVE</td>\n",
       "      <td>6e6283378a</td>\n",
       "      <td>2.000000</td>\n",
       "      <td>2019-02-12T18:29:26.933Z</td>\n",
       "      <td>False</td>\n",
       "      <td>[https://ssl-w08cnn0135.websiteseguro.com/mira...</td>\n",
       "      <td>1.000000</td>\n",
       "      <td>STANDARD</td>\n",
       "      <td>3.000000</td>\n",
       "      <td>nan</td>\n",
       "      <td>3</td>\n",
       "      <td></td>\n",
       "      <td>02461000</td>\n",
       "      <td>São Paulo</td>\n",
       "      <td>313</td>\n",
       "      <td></td>\n",
       "      <td>ROOFTOP</td>\n",
       "      <td>-46.638456</td>\n",
       "      <td>-23.493609</td>\n",
       "      <td>Rua Copacabana</td>\n",
       "      <td>BR&gt;Sao Paulo&gt;NULL&gt;Sao Paulo&gt;Zona Norte&gt;Santa T...</td>\n",
       "      <td></td>\n",
       "      <td></td>\n",
       "      <td>São Paulo</td>\n",
       "      <td>Chora Menino</td>\n",
       "      <td>None</td>\n",
       "      <td>SALE</td>\n",
       "      <td>nan</td>\n",
       "      <td>686.000000</td>\n",
       "      <td>NaN</td>\n",
       "      <td>nan</td>\n",
       "    </tr>\n",
       "    <tr>\n",
       "      <th>3</th>\n",
       "      <td>145.000000</td>\n",
       "      <td>Apartamento residencial à venda, Brooklin Paul...</td>\n",
       "      <td>Apartamento reformado com varanda gourmet no B...</td>\n",
       "      <td>2018-04-27T11:33:34.096Z</td>\n",
       "      <td>316d75f06f</td>\n",
       "      <td>APARTMENT</td>\n",
       "      <td>ACTIVE</td>\n",
       "      <td>4c29a27f44</td>\n",
       "      <td>3.000000</td>\n",
       "      <td>2019-02-24T23:34:29.306Z</td>\n",
       "      <td>False</td>\n",
       "      <td>[http://images.ingaiasites.com.br/3hLtXgzu4KQj...</td>\n",
       "      <td>3.000000</td>\n",
       "      <td>STANDARD</td>\n",
       "      <td>4.000000</td>\n",
       "      <td>145.000000</td>\n",
       "      <td>3</td>\n",
       "      <td></td>\n",
       "      <td>04561003</td>\n",
       "      <td>São Paulo</td>\n",
       "      <td></td>\n",
       "      <td></td>\n",
       "      <td>GEOMETRIC_CENTER</td>\n",
       "      <td>-46.686180</td>\n",
       "      <td>-23.607981</td>\n",
       "      <td>Rua Guararapes</td>\n",
       "      <td>BR&gt;Sao Paulo&gt;NULL&gt;Sao Paulo&gt;Zona Sul&gt;Brooklin</td>\n",
       "      <td></td>\n",
       "      <td></td>\n",
       "      <td>São Paulo</td>\n",
       "      <td>Brooklin Paulista</td>\n",
       "      <td>None</td>\n",
       "      <td>SALE</td>\n",
       "      <td>368.000000</td>\n",
       "      <td>770.000000</td>\n",
       "      <td>NaN</td>\n",
       "      <td>nan</td>\n",
       "    </tr>\n",
       "    <tr>\n",
       "      <th>4</th>\n",
       "      <td>76.000000</td>\n",
       "      <td></td>\n",
       "      <td>Apartamento Residencial à venda, Alto de Pinhe...</td>\n",
       "      <td>2018-09-16T00:58:01.666Z</td>\n",
       "      <td>295eddde1a</td>\n",
       "      <td>APARTMENT</td>\n",
       "      <td>ACTIVE</td>\n",
       "      <td>7b16cf224b</td>\n",
       "      <td>1.000000</td>\n",
       "      <td>2019-02-23T00:33:46.237Z</td>\n",
       "      <td>False</td>\n",
       "      <td>[http://cdn1.valuegaia.com.br/watermark/agenci...</td>\n",
       "      <td>1.000000</td>\n",
       "      <td>STANDARD</td>\n",
       "      <td>2.000000</td>\n",
       "      <td>76.000000</td>\n",
       "      <td>2</td>\n",
       "      <td></td>\n",
       "      <td>05468140</td>\n",
       "      <td>São Paulo</td>\n",
       "      <td>2174</td>\n",
       "      <td></td>\n",
       "      <td>ROOFTOP</td>\n",
       "      <td>-46.715088</td>\n",
       "      <td>-23.540604</td>\n",
       "      <td>Rua Pio XI</td>\n",
       "      <td>BR&gt;Sao Paulo&gt;NULL&gt;Sao Paulo&gt;Zona Oeste&gt;Alto de...</td>\n",
       "      <td></td>\n",
       "      <td></td>\n",
       "      <td>São Paulo</td>\n",
       "      <td>Alto de Pinheiros</td>\n",
       "      <td>None</td>\n",
       "      <td>SALE</td>\n",
       "      <td>79.000000</td>\n",
       "      <td>472.000000</td>\n",
       "      <td>NaN</td>\n",
       "      <td>nan</td>\n",
       "    </tr>\n",
       "  </tbody>\n",
       "</table>\n",
       "</div>"
      ],
      "text/plain": [
       "   usableAreas                                        description  \\\n",
       "0    47.000000  Apartamentos de 1 dormitório na Rua Bela Cintr...   \n",
       "1    55.000000  Ótima localização, próximo ao shopping Central...   \n",
       "2    92.000000  Apartamento maravilhoso com ampla sala ( abriu...   \n",
       "3   145.000000  Apartamento residencial à venda, Brooklin Paul...   \n",
       "4    76.000000                                                      \n",
       "\n",
       "                                               title  \\\n",
       "0                            Apartamento Bela Cintra   \n",
       "1  Apartamento residencial à venda, Quinta da Pai...   \n",
       "2     Apartamento em Santa Terezinha - São Paulo, SP   \n",
       "3  Apartamento reformado com varanda gourmet no B...   \n",
       "4  Apartamento Residencial à venda, Alto de Pinhe...   \n",
       "\n",
       "                  createdAt publisherId  unitTypes listingStatus          id  \\\n",
       "0      2015-10-20T20:52:41Z  967d57ce20  APARTMENT        ACTIVE  89224365f8   \n",
       "1  2018-07-31T06:10:07.427Z  bddebf057a  APARTMENT        ACTIVE  363731333f   \n",
       "2  2018-01-25T13:57:14.203Z  d7190e8f4c  APARTMENT        ACTIVE  6e6283378a   \n",
       "3  2018-04-27T11:33:34.096Z  316d75f06f  APARTMENT        ACTIVE  4c29a27f44   \n",
       "4  2018-09-16T00:58:01.666Z  295eddde1a  APARTMENT        ACTIVE  7b16cf224b   \n",
       "\n",
       "   parkingSpaces                 updatedAt  owner  \\\n",
       "0       1.000000  2018-11-08T15:02:53.953Z  False   \n",
       "1       1.000000  2018-11-08T16:10:49.374Z  False   \n",
       "2       2.000000  2019-02-12T18:29:26.933Z  False   \n",
       "3       3.000000  2019-02-24T23:34:29.306Z  False   \n",
       "4       1.000000  2019-02-23T00:33:46.237Z  False   \n",
       "\n",
       "                                              images   suites publicationType  \\\n",
       "0  [https://s3-sa-east-1.amazonaws.com/vr.images.... 0.000000        STANDARD   \n",
       "1  [http://images.ingaiasites.com.br/AolwiwJLLpET... 0.000000        STANDARD   \n",
       "2  [https://ssl-w08cnn0135.websiteseguro.com/mira... 1.000000        STANDARD   \n",
       "3  [http://images.ingaiasites.com.br/3hLtXgzu4KQj... 3.000000        STANDARD   \n",
       "4  [http://cdn1.valuegaia.com.br/watermark/agenci... 1.000000        STANDARD   \n",
       "\n",
       "   bathrooms  totalAreas  bedrooms address.country address.zipCode  \\\n",
       "0   1.000000   47.000000         1              BR        01415000   \n",
       "1   0.000000   55.000000         2              BR        03152155   \n",
       "2   3.000000         nan         3                        02461000   \n",
       "3   4.000000  145.000000         3                        04561003   \n",
       "4   2.000000   76.000000         2                        05468140   \n",
       "\n",
       "  address.city address.streetNumber address.zone  \\\n",
       "0    São Paulo                            Centro   \n",
       "1    São Paulo                  100   Zona Leste   \n",
       "2    São Paulo                  313                \n",
       "3    São Paulo                                     \n",
       "4    São Paulo                 2174                \n",
       "\n",
       "  address.geoLocation.precision  address.geoLocation.location.lon  \\\n",
       "0              GEOMETRIC_CENTER                        -46.662765   \n",
       "1                       ROOFTOP                        -46.581879   \n",
       "2                       ROOFTOP                        -46.638456   \n",
       "3              GEOMETRIC_CENTER                        -46.686180   \n",
       "4                       ROOFTOP                        -46.715088   \n",
       "\n",
       "   address.geoLocation.location.lat              address.street  \\\n",
       "0                        -23.557225             Rua Bela Cintra   \n",
       "1                        -23.592852  Rua Bruno Cavalcanti Feder   \n",
       "2                        -23.493609              Rua Copacabana   \n",
       "3                        -23.607981              Rua Guararapes   \n",
       "4                        -23.540604                  Rua Pio XI   \n",
       "\n",
       "                                  address.locationId address.district  \\\n",
       "0      BR>Sao Paulo>NULL>Sao Paulo>Centro>Consolacao                    \n",
       "1  BR>Sao Paulo>NULL>Sao Paulo>Zona Leste>Quinta ...                    \n",
       "2  BR>Sao Paulo>NULL>Sao Paulo>Zona Norte>Santa T...                    \n",
       "3      BR>Sao Paulo>NULL>Sao Paulo>Zona Sul>Brooklin                    \n",
       "4  BR>Sao Paulo>NULL>Sao Paulo>Zona Oeste>Alto de...                    \n",
       "\n",
       "  address.unitNumber address.state address.neighborhood pricingInfos.price  \\\n",
       "0                        São Paulo           Consolação               None   \n",
       "1                        São Paulo   Quinta da Paineira               None   \n",
       "2                        São Paulo         Chora Menino               None   \n",
       "3                        São Paulo    Brooklin Paulista               None   \n",
       "4                        São Paulo    Alto de Pinheiros               None   \n",
       "\n",
       "  pricingInfos.businessType  pricingInfos.yearlyIptu  \\\n",
       "0                      SALE                      nan   \n",
       "1                      SALE                 0.000000   \n",
       "2                      SALE                      nan   \n",
       "3                      SALE               368.000000   \n",
       "4                      SALE                79.000000   \n",
       "\n",
       "   pricingInfos.monthlyCondoFee pricingInfos.period  \\\n",
       "0                           nan                 NaN   \n",
       "1                      0.000000                 NaN   \n",
       "2                    686.000000                 NaN   \n",
       "3                    770.000000                 NaN   \n",
       "4                    472.000000                 NaN   \n",
       "\n",
       "   pricingInfos.rentalTotalPrice  \n",
       "0                            nan  \n",
       "1                            nan  \n",
       "2                            nan  \n",
       "3                            nan  \n",
       "4                            nan  "
      ]
     },
     "execution_count": 108,
     "metadata": {},
     "output_type": "execute_result"
    }
   ],
   "source": [
    "df_test.head()"
   ]
  },
  {
   "cell_type": "markdown",
   "metadata": {},
   "source": [
    "# Análise dos dados"
   ]
  },
  {
   "cell_type": "markdown",
   "metadata": {},
   "source": [
    "## Análise da variável price"
   ]
  },
  {
   "cell_type": "code",
   "execution_count": 109,
   "metadata": {},
   "outputs": [
    {
     "data": {
      "text/plain": [
       "count      133,964.000000\n",
       "mean       663,748.351811\n",
       "std      1,317,731.679053\n",
       "min             70.000000\n",
       "25%        175,000.000000\n",
       "50%        371,000.000000\n",
       "75%        700,000.000000\n",
       "max     84,000,000.000000\n",
       "Name: pricingInfos.price, dtype: float64"
      ]
     },
     "execution_count": 109,
     "metadata": {},
     "output_type": "execute_result"
    }
   ],
   "source": [
    "df_train['pricingInfos.price'].describe()"
   ]
  },
  {
   "cell_type": "code",
   "execution_count": 110,
   "metadata": {},
   "outputs": [
    {
     "name": "stderr",
     "output_type": "stream",
     "text": [
      "/media/will/0DFC376810E8A43F/DataScience/GrupoZap-DataScienceChallenge/env/lib/python3.8/site-packages/seaborn/distributions.py:2551: FutureWarning: `distplot` is a deprecated function and will be removed in a future version. Please adapt your code to use either `displot` (a figure-level function with similar flexibility) or `histplot` (an axes-level function for histograms).\n",
      "  warnings.warn(msg, FutureWarning)\n"
     ]
    },
    {
     "data": {
      "image/png": "[encoded data removed]",
      "text/plain": [
       "<Figure size 1080x432 with 1 Axes>"
      ]
     },
     "metadata": {
      "needs_background": "light"
     },
     "output_type": "display_data"
    }
   ],
   "source": [
    "fig = plt.figure(figsize=(15,6))\n",
    "ax = fig.add_subplot(1, 2, 1)\n",
    "ax.set_title('price')\n",
    "sns.distplot(np.log1p(df_train['pricingInfos.price']), ax=ax)\n",
    "plt.show()"
   ]
  },
  {
   "cell_type": "markdown",
   "metadata": {},
   "source": [
    "#### Correlações dos dados númericos"
   ]
  },
  {
   "cell_type": "code",
   "execution_count": 111,
   "metadata": {},
   "outputs": [
    {
     "data": {
      "image/png": "[encoded data removed]",
      "text/plain": [
       "<Figure size 1152x720 with 2 Axes>"
      ]
     },
     "metadata": {
      "needs_background": "light"
     },
     "output_type": "display_data"
    }
   ],
   "source": [
    "plt.figure(figsize=(16, 10))\n",
    "sns.heatmap(df_train.corr(), annot=True, cmap='YlOrBr', fmt=\".2f\")\n",
    "plt.title('Correlação features')\n",
    "plt.show()"
   ]
  },
  {
   "cell_type": "markdown",
   "metadata": {},
   "source": [
    "#### Correlação em relação ao preço do imóvel"
   ]
  },
  {
   "cell_type": "code",
   "execution_count": 112,
   "metadata": {},
   "outputs": [
    {
     "data": {
      "text/html": [
       "<style  type=\"text/css\" >\n",
       "#T_dddfd5e0_0805_11eb_90c8_7d31a1bd63e6row0_col0{\n",
       "            background-color:  #662506;\n",
       "            color:  #f1f1f1;\n",
       "        }#T_dddfd5e0_0805_11eb_90c8_7d31a1bd63e6row1_col0{\n",
       "            background-color:  #b34003;\n",
       "            color:  #f1f1f1;\n",
       "        }#T_dddfd5e0_0805_11eb_90c8_7d31a1bd63e6row2_col0{\n",
       "            background-color:  #fece65;\n",
       "            color:  #000000;\n",
       "        }#T_dddfd5e0_0805_11eb_90c8_7d31a1bd63e6row3_col0{\n",
       "            background-color:  #fee18c;\n",
       "            color:  #000000;\n",
       "        }#T_dddfd5e0_0805_11eb_90c8_7d31a1bd63e6row4_col0{\n",
       "            background-color:  #fff3b4;\n",
       "            color:  #000000;\n",
       "        }#T_dddfd5e0_0805_11eb_90c8_7d31a1bd63e6row5_col0{\n",
       "            background-color:  #fff4b5;\n",
       "            color:  #000000;\n",
       "        }#T_dddfd5e0_0805_11eb_90c8_7d31a1bd63e6row6_col0{\n",
       "            background-color:  #fffbd2;\n",
       "            color:  #000000;\n",
       "        }#T_dddfd5e0_0805_11eb_90c8_7d31a1bd63e6row7_col0{\n",
       "            background-color:  #fffddc;\n",
       "            color:  #000000;\n",
       "        }#T_dddfd5e0_0805_11eb_90c8_7d31a1bd63e6row8_col0,#T_dddfd5e0_0805_11eb_90c8_7d31a1bd63e6row9_col0{\n",
       "            background-color:  #fffee0;\n",
       "            color:  #000000;\n",
       "        }#T_dddfd5e0_0805_11eb_90c8_7d31a1bd63e6row10_col0{\n",
       "            background-color:  #fffee1;\n",
       "            color:  #000000;\n",
       "        }#T_dddfd5e0_0805_11eb_90c8_7d31a1bd63e6row11_col0,#T_dddfd5e0_0805_11eb_90c8_7d31a1bd63e6row12_col0{\n",
       "            background-color:  #ffffe5;\n",
       "            color:  #000000;\n",
       "        }</style><table id=\"T_dddfd5e0_0805_11eb_90c8_7d31a1bd63e6\" ><thead>    <tr>        <th class=\"blank level0\" ></th>        <th class=\"col_heading level0 col0\" >pricingInfos.price</th>    </tr></thead><tbody>\n",
       "                <tr>\n",
       "                        <th id=\"T_dddfd5e0_0805_11eb_90c8_7d31a1bd63e6level0_row0\" class=\"row_heading level0 row0\" >pricingInfos.price</th>\n",
       "                        <td id=\"T_dddfd5e0_0805_11eb_90c8_7d31a1bd63e6row0_col0\" class=\"data row0 col0\" >1.000000</td>\n",
       "            </tr>\n",
       "            <tr>\n",
       "                        <th id=\"T_dddfd5e0_0805_11eb_90c8_7d31a1bd63e6level0_row1\" class=\"row_heading level0 row1\" >pricingInfos.rentalTotalPrice</th>\n",
       "                        <td id=\"T_dddfd5e0_0805_11eb_90c8_7d31a1bd63e6row1_col0\" class=\"data row1 col0\" >0.806321</td>\n",
       "            </tr>\n",
       "            <tr>\n",
       "                        <th id=\"T_dddfd5e0_0805_11eb_90c8_7d31a1bd63e6level0_row2\" class=\"row_heading level0 row2\" >suites</th>\n",
       "                        <td id=\"T_dddfd5e0_0805_11eb_90c8_7d31a1bd63e6row2_col0\" class=\"data row2 col0\" >0.321463</td>\n",
       "            </tr>\n",
       "            <tr>\n",
       "                        <th id=\"T_dddfd5e0_0805_11eb_90c8_7d31a1bd63e6level0_row3\" class=\"row_heading level0 row3\" >bathrooms</th>\n",
       "                        <td id=\"T_dddfd5e0_0805_11eb_90c8_7d31a1bd63e6row3_col0\" class=\"data row3 col0\" >0.245185</td>\n",
       "            </tr>\n",
       "            <tr>\n",
       "                        <th id=\"T_dddfd5e0_0805_11eb_90c8_7d31a1bd63e6level0_row4\" class=\"row_heading level0 row4\" >parkingSpaces</th>\n",
       "                        <td id=\"T_dddfd5e0_0805_11eb_90c8_7d31a1bd63e6row4_col0\" class=\"data row4 col0\" >0.135957</td>\n",
       "            </tr>\n",
       "            <tr>\n",
       "                        <th id=\"T_dddfd5e0_0805_11eb_90c8_7d31a1bd63e6level0_row5\" class=\"row_heading level0 row5\" >bedrooms</th>\n",
       "                        <td id=\"T_dddfd5e0_0805_11eb_90c8_7d31a1bd63e6row5_col0\" class=\"data row5 col0\" >0.132376</td>\n",
       "            </tr>\n",
       "            <tr>\n",
       "                        <th id=\"T_dddfd5e0_0805_11eb_90c8_7d31a1bd63e6level0_row6\" class=\"row_heading level0 row6\" >usableAreas</th>\n",
       "                        <td id=\"T_dddfd5e0_0805_11eb_90c8_7d31a1bd63e6row6_col0\" class=\"data row6 col0\" >0.045574</td>\n",
       "            </tr>\n",
       "            <tr>\n",
       "                        <th id=\"T_dddfd5e0_0805_11eb_90c8_7d31a1bd63e6level0_row7\" class=\"row_heading level0 row7\" >pricingInfos.monthlyCondoFee</th>\n",
       "                        <td id=\"T_dddfd5e0_0805_11eb_90c8_7d31a1bd63e6row7_col0\" class=\"data row7 col0\" >0.013627</td>\n",
       "            </tr>\n",
       "            <tr>\n",
       "                        <th id=\"T_dddfd5e0_0805_11eb_90c8_7d31a1bd63e6level0_row8\" class=\"row_heading level0 row8\" >totalAreas</th>\n",
       "                        <td id=\"T_dddfd5e0_0805_11eb_90c8_7d31a1bd63e6row8_col0\" class=\"data row8 col0\" >0.002014</td>\n",
       "            </tr>\n",
       "            <tr>\n",
       "                        <th id=\"T_dddfd5e0_0805_11eb_90c8_7d31a1bd63e6level0_row9\" class=\"row_heading level0 row9\" >pricingInfos.yearlyIptu</th>\n",
       "                        <td id=\"T_dddfd5e0_0805_11eb_90c8_7d31a1bd63e6row9_col0\" class=\"data row9 col0\" >0.000206</td>\n",
       "            </tr>\n",
       "            <tr>\n",
       "                        <th id=\"T_dddfd5e0_0805_11eb_90c8_7d31a1bd63e6level0_row10\" class=\"row_heading level0 row10\" >owner</th>\n",
       "                        <td id=\"T_dddfd5e0_0805_11eb_90c8_7d31a1bd63e6row10_col0\" class=\"data row10 col0\" >-0.003220</td>\n",
       "            </tr>\n",
       "            <tr>\n",
       "                        <th id=\"T_dddfd5e0_0805_11eb_90c8_7d31a1bd63e6level0_row11\" class=\"row_heading level0 row11\" >address.geoLocation.location.lon</th>\n",
       "                        <td id=\"T_dddfd5e0_0805_11eb_90c8_7d31a1bd63e6row11_col0\" class=\"data row11 col0\" >-0.014008</td>\n",
       "            </tr>\n",
       "            <tr>\n",
       "                        <th id=\"T_dddfd5e0_0805_11eb_90c8_7d31a1bd63e6level0_row12\" class=\"row_heading level0 row12\" >address.geoLocation.location.lat</th>\n",
       "                        <td id=\"T_dddfd5e0_0805_11eb_90c8_7d31a1bd63e6row12_col0\" class=\"data row12 col0\" >-0.017469</td>\n",
       "            </tr>\n",
       "    </tbody></table>"
      ],
      "text/plain": [
       "<pandas.io.formats.style.Styler at 0x7f171bba9940>"
      ]
     },
     "execution_count": 112,
     "metadata": {},
     "output_type": "execute_result"
    }
   ],
   "source": [
    "train_corr = df_train.corr()\n",
    "train_corr['pricingInfos.price'].sort_values(ascending=False).to_frame().style.background_gradient(cmap=sns.color_palette('YlOrBr', as_cmap=True))"
   ]
  },
  {
   "cell_type": "markdown",
   "metadata": {},
   "source": [
    "#### Através da análise, é possível ver que possuem outliers que podem ser um problema para o modelo. Porém, vamos tratá-los depois."
   ]
  },
  {
   "cell_type": "markdown",
   "metadata": {},
   "source": [
    "## Análise da base de testes e treino"
   ]
  },
  {
   "cell_type": "code",
   "execution_count": 113,
   "metadata": {},
   "outputs": [
    {
     "name": "stdout",
     "output_type": "stream",
     "text": [
      "Shape treino:  (133964, 37)\n",
      "Shape teste:  (16036, 37)\n"
     ]
    }
   ],
   "source": [
    "print('Shape treino: ', df_train.shape)\n",
    "print('Shape teste: ', df_test.shape)"
   ]
  },
  {
   "cell_type": "code",
   "execution_count": 114,
   "metadata": {},
   "outputs": [
    {
     "data": {
      "text/html": [
       "<div>\n",
       "<style scoped>\n",
       "    .dataframe tbody tr th:only-of-type {\n",
       "        vertical-align: middle;\n",
       "    }\n",
       "\n",
       "    .dataframe tbody tr th {\n",
       "        vertical-align: top;\n",
       "    }\n",
       "\n",
       "    .dataframe thead th {\n",
       "        text-align: right;\n",
       "    }\n",
       "</style>\n",
       "<table border=\"1\" class=\"dataframe\">\n",
       "  <thead>\n",
       "    <tr style=\"text-align: right;\">\n",
       "      <th></th>\n",
       "      <th>usableAreas</th>\n",
       "      <th>parkingSpaces</th>\n",
       "      <th>suites</th>\n",
       "      <th>bathrooms</th>\n",
       "      <th>totalAreas</th>\n",
       "      <th>bedrooms</th>\n",
       "      <th>address.geoLocation.location.lon</th>\n",
       "      <th>address.geoLocation.location.lat</th>\n",
       "      <th>pricingInfos.price</th>\n",
       "      <th>pricingInfos.yearlyIptu</th>\n",
       "      <th>pricingInfos.rentalTotalPrice</th>\n",
       "      <th>pricingInfos.monthlyCondoFee</th>\n",
       "    </tr>\n",
       "  </thead>\n",
       "  <tbody>\n",
       "    <tr>\n",
       "      <th>count</th>\n",
       "      <td>133,211.000000</td>\n",
       "      <td>129,539.000000</td>\n",
       "      <td>120,347.000000</td>\n",
       "      <td>133,051.000000</td>\n",
       "      <td>91,132.000000</td>\n",
       "      <td>130,945.000000</td>\n",
       "      <td>133,953.000000</td>\n",
       "      <td>133,953.000000</td>\n",
       "      <td>133,964.000000</td>\n",
       "      <td>114,612.000000</td>\n",
       "      <td>28,714.000000</td>\n",
       "      <td>117,127.000000</td>\n",
       "    </tr>\n",
       "    <tr>\n",
       "      <th>mean</th>\n",
       "      <td>220.483226</td>\n",
       "      <td>2.443187</td>\n",
       "      <td>1.106534</td>\n",
       "      <td>2.375683</td>\n",
       "      <td>13,270.587445</td>\n",
       "      <td>2.327023</td>\n",
       "      <td>-46.643395</td>\n",
       "      <td>-23.554263</td>\n",
       "      <td>663,748.351811</td>\n",
       "      <td>4,182.520076</td>\n",
       "      <td>11,021.829874</td>\n",
       "      <td>1,507.678520</td>\n",
       "    </tr>\n",
       "    <tr>\n",
       "      <th>std</th>\n",
       "      <td>5,713.502066</td>\n",
       "      <td>5.251624</td>\n",
       "      <td>1.218938</td>\n",
       "      <td>2.146044</td>\n",
       "      <td>3,682,657.704269</td>\n",
       "      <td>2.140123</td>\n",
       "      <td>0.318494</td>\n",
       "      <td>0.165147</td>\n",
       "      <td>1,317,731.679053</td>\n",
       "      <td>850,109.115348</td>\n",
       "      <td>77,012.229803</td>\n",
       "      <td>77,954.055478</td>\n",
       "    </tr>\n",
       "    <tr>\n",
       "      <th>min</th>\n",
       "      <td>0.000000</td>\n",
       "      <td>0.000000</td>\n",
       "      <td>0.000000</td>\n",
       "      <td>0.000000</td>\n",
       "      <td>0.000000</td>\n",
       "      <td>0.000000</td>\n",
       "      <td>-46.820973</td>\n",
       "      <td>-23.848153</td>\n",
       "      <td>70.000000</td>\n",
       "      <td>0.000000</td>\n",
       "      <td>0.000000</td>\n",
       "      <td>0.000000</td>\n",
       "    </tr>\n",
       "    <tr>\n",
       "      <th>25%</th>\n",
       "      <td>60.000000</td>\n",
       "      <td>1.000000</td>\n",
       "      <td>0.000000</td>\n",
       "      <td>1.000000</td>\n",
       "      <td>60.000000</td>\n",
       "      <td>2.000000</td>\n",
       "      <td>-46.684151</td>\n",
       "      <td>-23.594475</td>\n",
       "      <td>175,000.000000</td>\n",
       "      <td>0.000000</td>\n",
       "      <td>2,310.000000</td>\n",
       "      <td>0.000000</td>\n",
       "    </tr>\n",
       "    <tr>\n",
       "      <th>50%</th>\n",
       "      <td>105.000000</td>\n",
       "      <td>2.000000</td>\n",
       "      <td>1.000000</td>\n",
       "      <td>2.000000</td>\n",
       "      <td>120.000000</td>\n",
       "      <td>2.000000</td>\n",
       "      <td>-46.654071</td>\n",
       "      <td>-23.558990</td>\n",
       "      <td>371,000.000000</td>\n",
       "      <td>84.000000</td>\n",
       "      <td>4,111.500000</td>\n",
       "      <td>399.000000</td>\n",
       "    </tr>\n",
       "    <tr>\n",
       "      <th>75%</th>\n",
       "      <td>200.000000</td>\n",
       "      <td>3.000000</td>\n",
       "      <td>2.000000</td>\n",
       "      <td>3.000000</td>\n",
       "      <td>250.000000</td>\n",
       "      <td>3.000000</td>\n",
       "      <td>-46.607885</td>\n",
       "      <td>-23.527634</td>\n",
       "      <td>700,000.000000</td>\n",
       "      <td>364.000000</td>\n",
       "      <td>9,100.000000</td>\n",
       "      <td>861.000000</td>\n",
       "    </tr>\n",
       "    <tr>\n",
       "      <th>max</th>\n",
       "      <td>2,025,000.000000</td>\n",
       "      <td>589.000000</td>\n",
       "      <td>80.000000</td>\n",
       "      <td>200.000000</td>\n",
       "      <td>1,111,111,111.000000</td>\n",
       "      <td>600.000000</td>\n",
       "      <td>0.000000</td>\n",
       "      <td>0.000000</td>\n",
       "      <td>84,000,000.000000</td>\n",
       "      <td>283,024,210.000000</td>\n",
       "      <td>11,900,000.000000</td>\n",
       "      <td>24,430,000.000000</td>\n",
       "    </tr>\n",
       "  </tbody>\n",
       "</table>\n",
       "</div>"
      ],
      "text/plain": [
       "           usableAreas  parkingSpaces         suites      bathrooms  \\\n",
       "count   133,211.000000 129,539.000000 120,347.000000 133,051.000000   \n",
       "mean        220.483226       2.443187       1.106534       2.375683   \n",
       "std       5,713.502066       5.251624       1.218938       2.146044   \n",
       "min           0.000000       0.000000       0.000000       0.000000   \n",
       "25%          60.000000       1.000000       0.000000       1.000000   \n",
       "50%         105.000000       2.000000       1.000000       2.000000   \n",
       "75%         200.000000       3.000000       2.000000       3.000000   \n",
       "max   2,025,000.000000     589.000000      80.000000     200.000000   \n",
       "\n",
       "                totalAreas       bedrooms  address.geoLocation.location.lon  \\\n",
       "count        91,132.000000 130,945.000000                    133,953.000000   \n",
       "mean         13,270.587445       2.327023                        -46.643395   \n",
       "std       3,682,657.704269       2.140123                          0.318494   \n",
       "min               0.000000       0.000000                        -46.820973   \n",
       "25%              60.000000       2.000000                        -46.684151   \n",
       "50%             120.000000       2.000000                        -46.654071   \n",
       "75%             250.000000       3.000000                        -46.607885   \n",
       "max   1,111,111,111.000000     600.000000                          0.000000   \n",
       "\n",
       "       address.geoLocation.location.lat  pricingInfos.price  \\\n",
       "count                    133,953.000000      133,964.000000   \n",
       "mean                         -23.554263      663,748.351811   \n",
       "std                            0.165147    1,317,731.679053   \n",
       "min                          -23.848153           70.000000   \n",
       "25%                          -23.594475      175,000.000000   \n",
       "50%                          -23.558990      371,000.000000   \n",
       "75%                          -23.527634      700,000.000000   \n",
       "max                            0.000000   84,000,000.000000   \n",
       "\n",
       "       pricingInfos.yearlyIptu  pricingInfos.rentalTotalPrice  \\\n",
       "count           114,612.000000                  28,714.000000   \n",
       "mean              4,182.520076                  11,021.829874   \n",
       "std             850,109.115348                  77,012.229803   \n",
       "min                   0.000000                       0.000000   \n",
       "25%                   0.000000                   2,310.000000   \n",
       "50%                  84.000000                   4,111.500000   \n",
       "75%                 364.000000                   9,100.000000   \n",
       "max         283,024,210.000000              11,900,000.000000   \n",
       "\n",
       "       pricingInfos.monthlyCondoFee  \n",
       "count                117,127.000000  \n",
       "mean                   1,507.678520  \n",
       "std                   77,954.055478  \n",
       "min                        0.000000  \n",
       "25%                        0.000000  \n",
       "50%                      399.000000  \n",
       "75%                      861.000000  \n",
       "max               24,430,000.000000  "
      ]
     },
     "execution_count": 114,
     "metadata": {},
     "output_type": "execute_result"
    }
   ],
   "source": [
    "df_train.describe()"
   ]
  },
  {
   "cell_type": "code",
   "execution_count": 115,
   "metadata": {},
   "outputs": [
    {
     "data": {
      "text/html": [
       "<div>\n",
       "<style scoped>\n",
       "    .dataframe tbody tr th:only-of-type {\n",
       "        vertical-align: middle;\n",
       "    }\n",
       "\n",
       "    .dataframe tbody tr th {\n",
       "        vertical-align: top;\n",
       "    }\n",
       "\n",
       "    .dataframe thead th {\n",
       "        text-align: right;\n",
       "    }\n",
       "</style>\n",
       "<table border=\"1\" class=\"dataframe\">\n",
       "  <thead>\n",
       "    <tr style=\"text-align: right;\">\n",
       "      <th></th>\n",
       "      <th>usableAreas</th>\n",
       "      <th>parkingSpaces</th>\n",
       "      <th>suites</th>\n",
       "      <th>bathrooms</th>\n",
       "      <th>totalAreas</th>\n",
       "      <th>bedrooms</th>\n",
       "      <th>address.geoLocation.location.lon</th>\n",
       "      <th>address.geoLocation.location.lat</th>\n",
       "      <th>pricingInfos.yearlyIptu</th>\n",
       "      <th>pricingInfos.monthlyCondoFee</th>\n",
       "      <th>pricingInfos.rentalTotalPrice</th>\n",
       "    </tr>\n",
       "  </thead>\n",
       "  <tbody>\n",
       "    <tr>\n",
       "      <th>count</th>\n",
       "      <td>16,029.000000</td>\n",
       "      <td>15,772.000000</td>\n",
       "      <td>14,641.000000</td>\n",
       "      <td>16,035.000000</td>\n",
       "      <td>9,942.000000</td>\n",
       "      <td>16,036.000000</td>\n",
       "      <td>16,033.000000</td>\n",
       "      <td>16,033.000000</td>\n",
       "      <td>13,639.000000</td>\n",
       "      <td>15,100.000000</td>\n",
       "      <td>14.000000</td>\n",
       "    </tr>\n",
       "    <tr>\n",
       "      <th>mean</th>\n",
       "      <td>116.448250</td>\n",
       "      <td>1.739538</td>\n",
       "      <td>1.172324</td>\n",
       "      <td>2.257187</td>\n",
       "      <td>252.474754</td>\n",
       "      <td>2.581754</td>\n",
       "      <td>-46.642554</td>\n",
       "      <td>-23.558230</td>\n",
       "      <td>5,794.045531</td>\n",
       "      <td>1,470.143377</td>\n",
       "      <td>183.500000</td>\n",
       "    </tr>\n",
       "    <tr>\n",
       "      <th>std</th>\n",
       "      <td>565.485325</td>\n",
       "      <td>1.146988</td>\n",
       "      <td>1.125591</td>\n",
       "      <td>1.670712</td>\n",
       "      <td>6,764.673783</td>\n",
       "      <td>0.976679</td>\n",
       "      <td>0.524534</td>\n",
       "      <td>0.267507</td>\n",
       "      <td>599,528.359472</td>\n",
       "      <td>37,617.894154</td>\n",
       "      <td>686.594130</td>\n",
       "    </tr>\n",
       "    <tr>\n",
       "      <th>min</th>\n",
       "      <td>0.000000</td>\n",
       "      <td>0.000000</td>\n",
       "      <td>0.000000</td>\n",
       "      <td>0.000000</td>\n",
       "      <td>0.000000</td>\n",
       "      <td>0.000000</td>\n",
       "      <td>-46.803329</td>\n",
       "      <td>-23.744563</td>\n",
       "      <td>0.000000</td>\n",
       "      <td>0.000000</td>\n",
       "      <td>0.000000</td>\n",
       "    </tr>\n",
       "    <tr>\n",
       "      <th>25%</th>\n",
       "      <td>59.000000</td>\n",
       "      <td>1.000000</td>\n",
       "      <td>0.000000</td>\n",
       "      <td>1.000000</td>\n",
       "      <td>56.000000</td>\n",
       "      <td>2.000000</td>\n",
       "      <td>-46.683541</td>\n",
       "      <td>-23.599426</td>\n",
       "      <td>0.000000</td>\n",
       "      <td>278.000000</td>\n",
       "      <td>0.000000</td>\n",
       "    </tr>\n",
       "    <tr>\n",
       "      <th>50%</th>\n",
       "      <td>80.000000</td>\n",
       "      <td>1.000000</td>\n",
       "      <td>1.000000</td>\n",
       "      <td>2.000000</td>\n",
       "      <td>85.000000</td>\n",
       "      <td>3.000000</td>\n",
       "      <td>-46.653328</td>\n",
       "      <td>-23.560475</td>\n",
       "      <td>70.000000</td>\n",
       "      <td>475.000000</td>\n",
       "      <td>0.000000</td>\n",
       "    </tr>\n",
       "    <tr>\n",
       "      <th>75%</th>\n",
       "      <td>136.000000</td>\n",
       "      <td>2.000000</td>\n",
       "      <td>2.000000</td>\n",
       "      <td>3.000000</td>\n",
       "      <td>160.000000</td>\n",
       "      <td>3.000000</td>\n",
       "      <td>-46.615534</td>\n",
       "      <td>-23.538932</td>\n",
       "      <td>308.000000</td>\n",
       "      <td>875.000000</td>\n",
       "      <td>0.000000</td>\n",
       "    </tr>\n",
       "    <tr>\n",
       "      <th>max</th>\n",
       "      <td>70,600.000000</td>\n",
       "      <td>20.000000</td>\n",
       "      <td>5.000000</td>\n",
       "      <td>99.000000</td>\n",
       "      <td>665,420.000000</td>\n",
       "      <td>54.000000</td>\n",
       "      <td>0.000000</td>\n",
       "      <td>0.000000</td>\n",
       "      <td>70,000,000.000000</td>\n",
       "      <td>3,072,300.000000</td>\n",
       "      <td>2,569.000000</td>\n",
       "    </tr>\n",
       "  </tbody>\n",
       "</table>\n",
       "</div>"
      ],
      "text/plain": [
       "        usableAreas  parkingSpaces        suites     bathrooms     totalAreas  \\\n",
       "count 16,029.000000  15,772.000000 14,641.000000 16,035.000000   9,942.000000   \n",
       "mean     116.448250       1.739538      1.172324      2.257187     252.474754   \n",
       "std      565.485325       1.146988      1.125591      1.670712   6,764.673783   \n",
       "min        0.000000       0.000000      0.000000      0.000000       0.000000   \n",
       "25%       59.000000       1.000000      0.000000      1.000000      56.000000   \n",
       "50%       80.000000       1.000000      1.000000      2.000000      85.000000   \n",
       "75%      136.000000       2.000000      2.000000      3.000000     160.000000   \n",
       "max   70,600.000000      20.000000      5.000000     99.000000 665,420.000000   \n",
       "\n",
       "           bedrooms  address.geoLocation.location.lon  \\\n",
       "count 16,036.000000                     16,033.000000   \n",
       "mean       2.581754                        -46.642554   \n",
       "std        0.976679                          0.524534   \n",
       "min        0.000000                        -46.803329   \n",
       "25%        2.000000                        -46.683541   \n",
       "50%        3.000000                        -46.653328   \n",
       "75%        3.000000                        -46.615534   \n",
       "max       54.000000                          0.000000   \n",
       "\n",
       "       address.geoLocation.location.lat  pricingInfos.yearlyIptu  \\\n",
       "count                     16,033.000000            13,639.000000   \n",
       "mean                         -23.558230             5,794.045531   \n",
       "std                            0.267507           599,528.359472   \n",
       "min                          -23.744563                 0.000000   \n",
       "25%                          -23.599426                 0.000000   \n",
       "50%                          -23.560475                70.000000   \n",
       "75%                          -23.538932               308.000000   \n",
       "max                            0.000000        70,000,000.000000   \n",
       "\n",
       "       pricingInfos.monthlyCondoFee  pricingInfos.rentalTotalPrice  \n",
       "count                 15,100.000000                      14.000000  \n",
       "mean                   1,470.143377                     183.500000  \n",
       "std                   37,617.894154                     686.594130  \n",
       "min                        0.000000                       0.000000  \n",
       "25%                      278.000000                       0.000000  \n",
       "50%                      475.000000                       0.000000  \n",
       "75%                      875.000000                       0.000000  \n",
       "max                3,072,300.000000                   2,569.000000  "
      ]
     },
     "execution_count": 115,
     "metadata": {},
     "output_type": "execute_result"
    }
   ],
   "source": [
    "df_test.describe()"
   ]
  },
  {
   "cell_type": "markdown",
   "metadata": {},
   "source": [
    "#### Através do describe já podemos ver que existem diversos outliers, porém vamos tratar depois."
   ]
  },
  {
   "cell_type": "code",
   "execution_count": 116,
   "metadata": {},
   "outputs": [
    {
     "data": {
      "text/html": [
       "<div>\n",
       "<style scoped>\n",
       "    .dataframe tbody tr th:only-of-type {\n",
       "        vertical-align: middle;\n",
       "    }\n",
       "\n",
       "    .dataframe tbody tr th {\n",
       "        vertical-align: top;\n",
       "    }\n",
       "\n",
       "    .dataframe thead th {\n",
       "        text-align: right;\n",
       "    }\n",
       "</style>\n",
       "<table border=\"1\" class=\"dataframe\">\n",
       "  <thead>\n",
       "    <tr style=\"text-align: right;\">\n",
       "      <th></th>\n",
       "      <th>count</th>\n",
       "      <th>unique</th>\n",
       "      <th>top</th>\n",
       "      <th>freq</th>\n",
       "    </tr>\n",
       "  </thead>\n",
       "  <tbody>\n",
       "    <tr>\n",
       "      <th>description</th>\n",
       "      <td>16036</td>\n",
       "      <td>15160</td>\n",
       "      <td></td>\n",
       "      <td>312</td>\n",
       "    </tr>\n",
       "    <tr>\n",
       "      <th>title</th>\n",
       "      <td>16036</td>\n",
       "      <td>11638</td>\n",
       "      <td>Apartamento em São Paulo</td>\n",
       "      <td>305</td>\n",
       "    </tr>\n",
       "    <tr>\n",
       "      <th>createdAt</th>\n",
       "      <td>16036</td>\n",
       "      <td>16010</td>\n",
       "      <td>2015-09-01T13:45:18Z</td>\n",
       "      <td>3</td>\n",
       "    </tr>\n",
       "    <tr>\n",
       "      <th>publisherId</th>\n",
       "      <td>16036</td>\n",
       "      <td>1817</td>\n",
       "      <td>a8b38b03a8</td>\n",
       "      <td>430</td>\n",
       "    </tr>\n",
       "    <tr>\n",
       "      <th>unitTypes</th>\n",
       "      <td>16036</td>\n",
       "      <td>1</td>\n",
       "      <td>APARTMENT</td>\n",
       "      <td>16036</td>\n",
       "    </tr>\n",
       "    <tr>\n",
       "      <th>listingStatus</th>\n",
       "      <td>16036</td>\n",
       "      <td>1</td>\n",
       "      <td>ACTIVE</td>\n",
       "      <td>16036</td>\n",
       "    </tr>\n",
       "    <tr>\n",
       "      <th>id</th>\n",
       "      <td>16036</td>\n",
       "      <td>16036</td>\n",
       "      <td>11ad9685bc</td>\n",
       "      <td>1</td>\n",
       "    </tr>\n",
       "    <tr>\n",
       "      <th>updatedAt</th>\n",
       "      <td>15338</td>\n",
       "      <td>14079</td>\n",
       "      <td>2018-11-08T13:49:39.008Z</td>\n",
       "      <td>69</td>\n",
       "    </tr>\n",
       "    <tr>\n",
       "      <th>owner</th>\n",
       "      <td>16036</td>\n",
       "      <td>2</td>\n",
       "      <td>False</td>\n",
       "      <td>16033</td>\n",
       "    </tr>\n",
       "    <tr>\n",
       "      <th>images</th>\n",
       "      <td>16036</td>\n",
       "      <td>15936</td>\n",
       "      <td>[https://s3.amazonaws.com/uploaded.prod.corret...</td>\n",
       "      <td>7</td>\n",
       "    </tr>\n",
       "    <tr>\n",
       "      <th>publicationType</th>\n",
       "      <td>16036</td>\n",
       "      <td>2</td>\n",
       "      <td>STANDARD</td>\n",
       "      <td>15767</td>\n",
       "    </tr>\n",
       "    <tr>\n",
       "      <th>address.country</th>\n",
       "      <td>16036</td>\n",
       "      <td>2</td>\n",
       "      <td></td>\n",
       "      <td>14503</td>\n",
       "    </tr>\n",
       "    <tr>\n",
       "      <th>address.zipCode</th>\n",
       "      <td>16036</td>\n",
       "      <td>4231</td>\n",
       "      <td></td>\n",
       "      <td>638</td>\n",
       "    </tr>\n",
       "    <tr>\n",
       "      <th>address.city</th>\n",
       "      <td>16036</td>\n",
       "      <td>1</td>\n",
       "      <td>São Paulo</td>\n",
       "      <td>16036</td>\n",
       "    </tr>\n",
       "    <tr>\n",
       "      <th>address.streetNumber</th>\n",
       "      <td>16036</td>\n",
       "      <td>1701</td>\n",
       "      <td></td>\n",
       "      <td>5279</td>\n",
       "    </tr>\n",
       "    <tr>\n",
       "      <th>address.zone</th>\n",
       "      <td>16036</td>\n",
       "      <td>6</td>\n",
       "      <td></td>\n",
       "      <td>14090</td>\n",
       "    </tr>\n",
       "    <tr>\n",
       "      <th>address.geoLocation.precision</th>\n",
       "      <td>16033</td>\n",
       "      <td>5</td>\n",
       "      <td>ROOFTOP</td>\n",
       "      <td>9108</td>\n",
       "    </tr>\n",
       "    <tr>\n",
       "      <th>address.street</th>\n",
       "      <td>16036</td>\n",
       "      <td>3059</td>\n",
       "      <td></td>\n",
       "      <td>720</td>\n",
       "    </tr>\n",
       "    <tr>\n",
       "      <th>address.locationId</th>\n",
       "      <td>16036</td>\n",
       "      <td>602</td>\n",
       "      <td>BR&gt;Sao Paulo&gt;NULL&gt;Sao Paulo&gt;Centro&gt;Higienopolis</td>\n",
       "      <td>614</td>\n",
       "    </tr>\n",
       "    <tr>\n",
       "      <th>address.district</th>\n",
       "      <td>16036</td>\n",
       "      <td>1</td>\n",
       "      <td></td>\n",
       "      <td>16036</td>\n",
       "    </tr>\n",
       "    <tr>\n",
       "      <th>address.unitNumber</th>\n",
       "      <td>16036</td>\n",
       "      <td>8</td>\n",
       "      <td></td>\n",
       "      <td>16029</td>\n",
       "    </tr>\n",
       "    <tr>\n",
       "      <th>address.state</th>\n",
       "      <td>16036</td>\n",
       "      <td>2</td>\n",
       "      <td>São Paulo</td>\n",
       "      <td>15989</td>\n",
       "    </tr>\n",
       "    <tr>\n",
       "      <th>address.neighborhood</th>\n",
       "      <td>16036</td>\n",
       "      <td>801</td>\n",
       "      <td>Higienópolis</td>\n",
       "      <td>432</td>\n",
       "    </tr>\n",
       "    <tr>\n",
       "      <th>pricingInfos.price</th>\n",
       "      <td>0</td>\n",
       "      <td>0</td>\n",
       "      <td>NaN</td>\n",
       "      <td>NaN</td>\n",
       "    </tr>\n",
       "    <tr>\n",
       "      <th>pricingInfos.businessType</th>\n",
       "      <td>16036</td>\n",
       "      <td>1</td>\n",
       "      <td>SALE</td>\n",
       "      <td>16036</td>\n",
       "    </tr>\n",
       "    <tr>\n",
       "      <th>pricingInfos.period</th>\n",
       "      <td>75</td>\n",
       "      <td>1</td>\n",
       "      <td>MONTHLY</td>\n",
       "      <td>75</td>\n",
       "    </tr>\n",
       "  </tbody>\n",
       "</table>\n",
       "</div>"
      ],
      "text/plain": [
       "                               count unique  \\\n",
       "description                    16036  15160   \n",
       "title                          16036  11638   \n",
       "createdAt                      16036  16010   \n",
       "publisherId                    16036   1817   \n",
       "unitTypes                      16036      1   \n",
       "listingStatus                  16036      1   \n",
       "id                             16036  16036   \n",
       "updatedAt                      15338  14079   \n",
       "owner                          16036      2   \n",
       "images                         16036  15936   \n",
       "publicationType                16036      2   \n",
       "address.country                16036      2   \n",
       "address.zipCode                16036   4231   \n",
       "address.city                   16036      1   \n",
       "address.streetNumber           16036   1701   \n",
       "address.zone                   16036      6   \n",
       "address.geoLocation.precision  16033      5   \n",
       "address.street                 16036   3059   \n",
       "address.locationId             16036    602   \n",
       "address.district               16036      1   \n",
       "address.unitNumber             16036      8   \n",
       "address.state                  16036      2   \n",
       "address.neighborhood           16036    801   \n",
       "pricingInfos.price                 0      0   \n",
       "pricingInfos.businessType      16036      1   \n",
       "pricingInfos.period               75      1   \n",
       "\n",
       "                                                                             top  \\\n",
       "description                                                                        \n",
       "title                                                   Apartamento em São Paulo   \n",
       "createdAt                                                   2015-09-01T13:45:18Z   \n",
       "publisherId                                                           a8b38b03a8   \n",
       "unitTypes                                                              APARTMENT   \n",
       "listingStatus                                                             ACTIVE   \n",
       "id                                                                    11ad9685bc   \n",
       "updatedAt                                               2018-11-08T13:49:39.008Z   \n",
       "owner                                                                      False   \n",
       "images                         [https://s3.amazonaws.com/uploaded.prod.corret...   \n",
       "publicationType                                                         STANDARD   \n",
       "address.country                                                                    \n",
       "address.zipCode                                                                    \n",
       "address.city                                                           São Paulo   \n",
       "address.streetNumber                                                               \n",
       "address.zone                                                                       \n",
       "address.geoLocation.precision                                            ROOFTOP   \n",
       "address.street                                                                     \n",
       "address.locationId               BR>Sao Paulo>NULL>Sao Paulo>Centro>Higienopolis   \n",
       "address.district                                                                   \n",
       "address.unitNumber                                                                 \n",
       "address.state                                                          São Paulo   \n",
       "address.neighborhood                                                Higienópolis   \n",
       "pricingInfos.price                                                           NaN   \n",
       "pricingInfos.businessType                                                   SALE   \n",
       "pricingInfos.period                                                      MONTHLY   \n",
       "\n",
       "                                freq  \n",
       "description                      312  \n",
       "title                            305  \n",
       "createdAt                          3  \n",
       "publisherId                      430  \n",
       "unitTypes                      16036  \n",
       "listingStatus                  16036  \n",
       "id                                 1  \n",
       "updatedAt                         69  \n",
       "owner                          16033  \n",
       "images                             7  \n",
       "publicationType                15767  \n",
       "address.country                14503  \n",
       "address.zipCode                  638  \n",
       "address.city                   16036  \n",
       "address.streetNumber            5279  \n",
       "address.zone                   14090  \n",
       "address.geoLocation.precision   9108  \n",
       "address.street                   720  \n",
       "address.locationId               614  \n",
       "address.district               16036  \n",
       "address.unitNumber             16029  \n",
       "address.state                  15989  \n",
       "address.neighborhood             432  \n",
       "pricingInfos.price               NaN  \n",
       "pricingInfos.businessType      16036  \n",
       "pricingInfos.period               75  "
      ]
     },
     "execution_count": 116,
     "metadata": {},
     "output_type": "execute_result"
    }
   ],
   "source": [
    "df_test.describe(include=[np.object, np.bool]).T"
   ]
  },
  {
   "cell_type": "markdown",
   "metadata": {},
   "source": [
    "#### Aqui podemos ver que todos os dados de teste são do tipo unitTypes APARTMENT, todos são do tipo SALE, e de São Paulo."
   ]
  },
  {
   "cell_type": "markdown",
   "metadata": {},
   "source": [
    "#### Vamos filtrar os dados de teste para que sejam apenas desse tipo"
   ]
  },
  {
   "cell_type": "code",
   "execution_count": 117,
   "metadata": {},
   "outputs": [
    {
     "name": "stdout",
     "output_type": "stream",
     "text": [
      "APARTMENT                     72241\n",
      "TWO_STORY_HOUSE               18068\n",
      "HOME                           9030\n",
      "OFFICE                         7714\n",
      "FLAT                           7661\n",
      "COMMERCIAL_PROPERTY            5871\n",
      "CONDOMINIUM                    4015\n",
      "PENTHOUSE                      2772\n",
      "SHED_DEPOSIT_WAREHOUSE         2197\n",
      "RESIDENTIAL_ALLOTMENT_LAND     1430\n",
      "COMMERCIAL_ALLOTMENT_LAND       807\n",
      "STORE                           694\n",
      "BUSINESS                        663\n",
      "KITNET                          522\n",
      "RESIDENTIAL_BUILDING            142\n",
      "COMMERCIAL_BUILDING              85\n",
      "CLINIC                           33\n",
      "FARM                             10\n",
      "COUNTRY_HOUSE                     9\n",
      "Name: unitTypes, dtype: int64\n"
     ]
    }
   ],
   "source": [
    "print(df_train['unitTypes'].value_counts())"
   ]
  },
  {
   "cell_type": "markdown",
   "metadata": {},
   "source": [
    "#### Filtrando apenas pelo tipo de APARTMENT e deletando a coluna."
   ]
  },
  {
   "cell_type": "code",
   "execution_count": 118,
   "metadata": {},
   "outputs": [],
   "source": [
    "df_train = df_train[df_train['unitTypes'] == 'APARTMENT']\n",
    "df_train = df_train.reset_index(drop=True)\n",
    "df_train = df_train.drop(['unitTypes'], axis=1)\n",
    "df_test = df_test.drop(['unitTypes'], axis=1)"
   ]
  },
  {
   "cell_type": "markdown",
   "metadata": {},
   "source": [
    "#### Agora fazer o mesmo para businessType tipo SALE"
   ]
  },
  {
   "cell_type": "code",
   "execution_count": 119,
   "metadata": {},
   "outputs": [
    {
     "name": "stdout",
     "output_type": "stream",
     "text": [
      "SALE      64146\n",
      "RENTAL     8095\n",
      "Name: pricingInfos.businessType, dtype: int64\n"
     ]
    }
   ],
   "source": [
    "print(df_train['pricingInfos.businessType'].value_counts())"
   ]
  },
  {
   "cell_type": "code",
   "execution_count": 120,
   "metadata": {},
   "outputs": [],
   "source": [
    "df_train = df_train[df_train['pricingInfos.businessType'] == 'SALE']\n",
    "df_train = df_train.reset_index(drop=True)\n",
    "df_train = df_train.drop(['pricingInfos.businessType'], axis=1)\n",
    "df_test = df_test.drop(['pricingInfos.businessType'], axis=1)"
   ]
  },
  {
   "cell_type": "markdown",
   "metadata": {},
   "source": [
    "### Irei remover algumas colunas que considero não úteis para essa análise."
   ]
  },
  {
   "cell_type": "code",
   "execution_count": 121,
   "metadata": {},
   "outputs": [],
   "source": [
    "df_train = df_train.drop(['description', 'title', 'createdAt', \n",
    "                                      'publisherId', 'listingStatus', 'id', 'publicationType',\n",
    "                                      'updatedAt','owner', 'images', 'address.country', 'address.zipCode', 'address.city',\n",
    "                                      'address.streetNumber', 'address.zone', 'address.street', 'address.locationId', 'address.district',\n",
    "                                      'address.unitNumber', 'address.state', 'pricingInfos.rentalTotalPrice',\n",
    "                                      'pricingInfos.period','address.geoLocation.location.lat','address.geoLocation.location.lon', 'address.geoLocation.precision'],axis = 1)\n",
    "df_train = df_train.reset_index(drop=True)\n",
    "df_test = df_test.drop(['description', 'title', 'createdAt', \n",
    "                                      'publisherId', 'listingStatus', 'id', 'publicationType',\n",
    "                                      'updatedAt','owner', 'images', 'address.country', 'address.zipCode', 'address.city',\n",
    "                                      'address.streetNumber', 'address.zone', 'address.street', 'address.locationId', 'address.district',\n",
    "                                      'address.unitNumber', 'address.state', 'pricingInfos.rentalTotalPrice',\n",
    "                                      'pricingInfos.period','address.geoLocation.location.lat','address.geoLocation.location.lon', 'address.geoLocation.precision'],axis = 1)\n",
    "df_test = df_test.reset_index(drop=True)"
   ]
  },
  {
   "cell_type": "markdown",
   "metadata": {},
   "source": [
    "## Verificando e tratando valores nulos\n",
    "\n",
    "### Base de treino"
   ]
  },
  {
   "cell_type": "code",
   "execution_count": 124,
   "metadata": {},
   "outputs": [
    {
     "name": "stdout",
     "output_type": "stream",
     "text": [
      "Valores nulos em porcentagem: \n",
      "totalAreas                     38.904998\n",
      "pricingInfos.yearlyIptu        14.945593\n",
      "suites                          8.786206\n",
      "pricingInfos.monthlyCondoFee    5.658965\n",
      "parkingSpaces                   1.758488\n",
      "usableAreas                     0.012472\n",
      "bathrooms                       0.001559\n",
      "pricingInfos.price              0.000000\n",
      "address.neighborhood            0.000000\n",
      "bedrooms                        0.000000\n",
      "dtype: float64\n",
      "\n",
      "Valores nulos em quantidade: \n",
      "totalAreas                      24956\n",
      "pricingInfos.yearlyIptu          9587\n",
      "suites                           5636\n",
      "pricingInfos.monthlyCondoFee     3630\n",
      "parkingSpaces                    1128\n",
      "usableAreas                         8\n",
      "bathrooms                           1\n",
      "pricingInfos.price                  0\n",
      "address.neighborhood                0\n",
      "bedrooms                            0\n",
      "dtype: int64\n"
     ]
    }
   ],
   "source": [
    "print('Valores nulos em porcentagem: \\n{}'.format((df_train.isnull().mean() * 100).sort_values(ascending=False)))\n",
    "print('\\nValores nulos em quantidade: \\n{}'.format((df_train.isnull().sum()).sort_values(ascending=False)))"
   ]
  },
  {
   "cell_type": "markdown",
   "metadata": {},
   "source": [
    "### Base de teste"
   ]
  },
  {
   "cell_type": "code",
   "execution_count": 125,
   "metadata": {},
   "outputs": [
    {
     "name": "stdout",
     "output_type": "stream",
     "text": [
      "Valores nulos em porcentagem: \n",
      "pricingInfos.price             100.000000\n",
      "totalAreas                      38.001996\n",
      "pricingInfos.yearlyIptu         14.947618\n",
      "suites                           8.699177\n",
      "pricingInfos.monthlyCondoFee     5.836867\n",
      "parkingSpaces                    1.646296\n",
      "usableAreas                      0.043652\n",
      "bathrooms                        0.006236\n",
      "address.neighborhood             0.000000\n",
      "bedrooms                         0.000000\n",
      "dtype: float64\n",
      "\n",
      "Valores nulos em quantidade: \n",
      "pricingInfos.price              16036\n",
      "totalAreas                       6094\n",
      "pricingInfos.yearlyIptu          2397\n",
      "suites                           1395\n",
      "pricingInfos.monthlyCondoFee      936\n",
      "parkingSpaces                     264\n",
      "usableAreas                         7\n",
      "bathrooms                           1\n",
      "address.neighborhood                0\n",
      "bedrooms                            0\n",
      "dtype: int64\n"
     ]
    }
   ],
   "source": [
    "print('Valores nulos em porcentagem: \\n{}'.format((df_test.isnull().mean() * 100).sort_values(ascending=False)))\n",
    "print('\\nValores nulos em quantidade: \\n{}'.format((df_test.isnull().sum()).sort_values(ascending=False)))"
   ]
  },
  {
   "cell_type": "code",
   "execution_count": 126,
   "metadata": {},
   "outputs": [],
   "source": [
    "df_test = df_test.drop(['pricingInfos.price'], axis = 1)"
   ]
  },
  {
   "cell_type": "markdown",
   "metadata": {},
   "source": [
    "### Preenchendo os valores nulos utilizando o método MICE."
   ]
  },
  {
   "cell_type": "code",
   "execution_count": 127,
   "metadata": {},
   "outputs": [],
   "source": [
    "from feature_engine import missing_data_imputers  as msi\n",
    "\n",
    "fill_columns = ['totalAreas', 'pricingInfos.yearlyIptu', 'pricingInfos.monthlyCondoFee', 'suites', 'parkingSpaces',\n",
    "               'bedrooms', 'usableAreas', 'bathrooms']\n",
    "\n",
    "addBinary_imputer = msi.AddMissingIndicator(variables=fill_columns)\n",
    "addBinary_imputer.fit(df_train)\n",
    "addBinary_imputer_test = msi.AddMissingIndicator(variables =fill_columns )\n",
    "addBinary_imputer_test.fit(df_test)\n",
    "df_train = addBinary_imputer.transform(df_train)\n",
    "df_test = addBinary_imputer_test.transform(df_test)"
   ]
  },
  {
   "cell_type": "markdown",
   "metadata": {},
   "source": [
    "### Como já foi marcado os valores que possuem nulos, podemos preencher com 0 os valores nulos."
   ]
  },
  {
   "cell_type": "code",
   "execution_count": 128,
   "metadata": {},
   "outputs": [],
   "source": [
    "fill_columns = ['totalAreas', 'pricingInfos.yearlyIptu', 'pricingInfos.monthlyCondoFee', 'suites', 'parkingSpaces',\n",
    "               'bedrooms', 'usableAreas', 'bathrooms']\n",
    "\n",
    "for col in fill_columns:\n",
    "    df_train[col] = df_train[col].fillna(0)\n",
    "    df_test[col] = df_test[col].fillna(0)"
   ]
  },
  {
   "cell_type": "code",
   "execution_count": 129,
   "metadata": {},
   "outputs": [
    {
     "name": "stdout",
     "output_type": "stream",
     "text": [
      "Valores nulos em porcentagem: \n",
      "bathrooms_na                      0.000000\n",
      "pricingInfos.price                0.000000\n",
      "parkingSpaces                     0.000000\n",
      "suites                            0.000000\n",
      "bathrooms                         0.000000\n",
      "totalAreas                        0.000000\n",
      "bedrooms                          0.000000\n",
      "address.neighborhood              0.000000\n",
      "pricingInfos.yearlyIptu           0.000000\n",
      "usableAreas_na                    0.000000\n",
      "pricingInfos.monthlyCondoFee      0.000000\n",
      "totalAreas_na                     0.000000\n",
      "pricingInfos.yearlyIptu_na        0.000000\n",
      "pricingInfos.monthlyCondoFee_na   0.000000\n",
      "suites_na                         0.000000\n",
      "parkingSpaces_na                  0.000000\n",
      "usableAreas                       0.000000\n",
      "dtype: float64\n",
      "\n",
      "Valores nulos em quantidade: \n",
      "bathrooms_na                       0\n",
      "pricingInfos.price                 0\n",
      "parkingSpaces                      0\n",
      "suites                             0\n",
      "bathrooms                          0\n",
      "totalAreas                         0\n",
      "bedrooms                           0\n",
      "address.neighborhood               0\n",
      "pricingInfos.yearlyIptu            0\n",
      "usableAreas_na                     0\n",
      "pricingInfos.monthlyCondoFee       0\n",
      "totalAreas_na                      0\n",
      "pricingInfos.yearlyIptu_na         0\n",
      "pricingInfos.monthlyCondoFee_na    0\n",
      "suites_na                          0\n",
      "parkingSpaces_na                   0\n",
      "usableAreas                        0\n",
      "dtype: int64\n"
     ]
    }
   ],
   "source": [
    "print('Valores nulos em porcentagem: \\n{}'.format((df_train.isnull().mean() * 100).sort_values(ascending=False)))\n",
    "print('\\nValores nulos em quantidade: \\n{}'.format((df_train.isnull().sum()).sort_values(ascending=False)))"
   ]
  },
  {
   "cell_type": "code",
   "execution_count": 130,
   "metadata": {},
   "outputs": [
    {
     "name": "stdout",
     "output_type": "stream",
     "text": [
      "Valores nulos em porcentagem: \n",
      "bathrooms_na                      0.000000\n",
      "usableAreas_na                    0.000000\n",
      "parkingSpaces_na                  0.000000\n",
      "suites_na                         0.000000\n",
      "pricingInfos.monthlyCondoFee_na   0.000000\n",
      "pricingInfos.yearlyIptu_na        0.000000\n",
      "totalAreas_na                     0.000000\n",
      "pricingInfos.monthlyCondoFee      0.000000\n",
      "pricingInfos.yearlyIptu           0.000000\n",
      "address.neighborhood              0.000000\n",
      "bedrooms                          0.000000\n",
      "totalAreas                        0.000000\n",
      "bathrooms                         0.000000\n",
      "suites                            0.000000\n",
      "parkingSpaces                     0.000000\n",
      "usableAreas                       0.000000\n",
      "dtype: float64\n",
      "\n",
      "Valores nulos em quantidade: \n",
      "bathrooms_na                       0\n",
      "usableAreas_na                     0\n",
      "parkingSpaces_na                   0\n",
      "suites_na                          0\n",
      "pricingInfos.monthlyCondoFee_na    0\n",
      "pricingInfos.yearlyIptu_na         0\n",
      "totalAreas_na                      0\n",
      "pricingInfos.monthlyCondoFee       0\n",
      "pricingInfos.yearlyIptu            0\n",
      "address.neighborhood               0\n",
      "bedrooms                           0\n",
      "totalAreas                         0\n",
      "bathrooms                          0\n",
      "suites                             0\n",
      "parkingSpaces                      0\n",
      "usableAreas                        0\n",
      "dtype: int64\n"
     ]
    }
   ],
   "source": [
    "print('Valores nulos em porcentagem: \\n{}'.format((df_test.isnull().mean() * 100).sort_values(ascending=False)))\n",
    "print('\\nValores nulos em quantidade: \\n{}'.format((df_test.isnull().sum()).sort_values(ascending=False)))"
   ]
  },
  {
   "cell_type": "markdown",
   "metadata": {},
   "source": [
    "## Tratamento dos dados"
   ]
  },
  {
   "cell_type": "markdown",
   "metadata": {},
   "source": [
    "### Tratando outliers\n",
    "\n",
    "#### Para tratar os outliers de algumas features, vou utilizar Amplitute Interquartil. É uma abordagem geral que calcula as quantis e as faixas de interquantilidade.\n",
    "#### E alguns dados mais sensíveis irei tratar manualmente."
   ]
  },
  {
   "cell_type": "code",
   "execution_count": 131,
   "metadata": {},
   "outputs": [],
   "source": [
    "def outlier_detection(dataset, column):\n",
    "    Q1 = dataset[column].quantile(0.25)\n",
    "    Q3 = dataset[column].quantile(0.75)\n",
    "    IQR = Q3 - Q1\n",
    "    lower_range = Q1 - (3 * IQR)\n",
    "    upper_range = Q3 + (3 * IQR)\n",
    "    print(lower_range)\n",
    "    print(upper_range)\n",
    "    dataset = dataset.drop(dataset[(dataset[column] > upper_range) | (dataset[column] < lower_range)].index)\n",
    "    dataset = dataset.reset_index(drop=True)\n",
    "    return dataset\n",
    "\n",
    "def outlier_detection_nodrop(dataset, column):\n",
    "    Q1 = dataset[column].quantile(0.25)\n",
    "    Q3 = dataset[column].quantile(0.75)\n",
    "    IQR = Q3 - Q1\n",
    "    lower_range = Q1 - (3 * IQR)\n",
    "    upper_range = Q3 + (3 * IQR)\n",
    "    print(lower_range)\n",
    "    print(upper_range)"
   ]
  },
  {
   "cell_type": "markdown",
   "metadata": {},
   "source": [
    "### Bedrooms"
   ]
  },
  {
   "cell_type": "code",
   "execution_count": 132,
   "metadata": {},
   "outputs": [
    {
     "data": {
      "text/plain": [
       "count   64,146.000000\n",
       "mean         2.577105\n",
       "std          0.846769\n",
       "min          0.000000\n",
       "25%          2.000000\n",
       "50%          3.000000\n",
       "75%          3.000000\n",
       "max         30.000000\n",
       "Name: bedrooms, dtype: float64"
      ]
     },
     "execution_count": 132,
     "metadata": {},
     "output_type": "execute_result"
    }
   ],
   "source": [
    "df_train['bedrooms'].describe()"
   ]
  },
  {
   "cell_type": "markdown",
   "metadata": {},
   "source": [
    "#### Gráfico de bedrooms em relação ao preço antes e de pois da aplitude interquartil"
   ]
  },
  {
   "cell_type": "code",
   "execution_count": 133,
   "metadata": {},
   "outputs": [
    {
     "data": {
      "image/png": "[encoded data removed]",
      "text/plain": [
       "<Figure size 648x432 with 1 Axes>"
      ]
     },
     "metadata": {
      "needs_background": "light"
     },
     "output_type": "display_data"
    }
   ],
   "source": [
    "plt.figure(figsize=(9,6))\n",
    "plt.scatter(df_train['bedrooms'],df_train['pricingInfos.price'])\n",
    "plt.xlabel('Bedrooms')\n",
    "plt.ylabel('Price')\n",
    "plt.show()"
   ]
  },
  {
   "cell_type": "code",
   "execution_count": 134,
   "metadata": {},
   "outputs": [
    {
     "name": "stdout",
     "output_type": "stream",
     "text": [
      "-1.0\n",
      "6.0\n"
     ]
    },
    {
     "data": {
      "image/png": "[encoded data removed]",
      "text/plain": [
       "<Figure size 648x432 with 1 Axes>"
      ]
     },
     "metadata": {
      "needs_background": "light"
     },
     "output_type": "display_data"
    }
   ],
   "source": [
    "df_train = outlier_detection(df_train, 'bedrooms')\n",
    "\n",
    "plt.figure(figsize=(9,6))\n",
    "plt.scatter(df_train['bedrooms'],df_train['pricingInfos.price'])\n",
    "plt.xlabel('Bedrooms')\n",
    "plt.ylabel('Price')\n",
    "plt.show()"
   ]
  },
  {
   "cell_type": "markdown",
   "metadata": {},
   "source": [
    "### Bathrooms"
   ]
  },
  {
   "cell_type": "markdown",
   "metadata": {},
   "source": [
    "#### Gráfico de Bathrooms em relação ao preço antes e de pois da aplitude interquartil"
   ]
  },
  {
   "cell_type": "code",
   "execution_count": 135,
   "metadata": {},
   "outputs": [
    {
     "data": {
      "image/png": "[encoded data removed]",
      "text/plain": [
       "<Figure size 648x432 with 1 Axes>"
      ]
     },
     "metadata": {
      "needs_background": "light"
     },
     "output_type": "display_data"
    }
   ],
   "source": [
    "plt.figure(figsize=(9,6))\n",
    "plt.scatter(df_train['bathrooms'],df_train['pricingInfos.price'])\n",
    "plt.xlabel('Bathrooms')\n",
    "plt.ylabel('Price')\n",
    "plt.show()"
   ]
  },
  {
   "cell_type": "code",
   "execution_count": 136,
   "metadata": {},
   "outputs": [
    {
     "name": "stdout",
     "output_type": "stream",
     "text": [
      "-5.0\n",
      "9.0\n"
     ]
    },
    {
     "data": {
      "image/png": "[encoded data removed]",
      "text/plain": [
       "<Figure size 648x432 with 1 Axes>"
      ]
     },
     "metadata": {
      "needs_background": "light"
     },
     "output_type": "display_data"
    }
   ],
   "source": [
    "df_train = outlier_detection(df_train, 'bathrooms')\n",
    "\n",
    "plt.figure(figsize=(9,6))\n",
    "plt.scatter(df_train['bathrooms'],df_train['pricingInfos.price'])\n",
    "plt.xlabel('Bathrooms')\n",
    "plt.ylabel('Price')\n",
    "plt.show()"
   ]
  },
  {
   "cell_type": "markdown",
   "metadata": {},
   "source": [
    "### Suites"
   ]
  },
  {
   "cell_type": "markdown",
   "metadata": {},
   "source": [
    "#### Gráfico de Suites em relação ao preço antes e de pois da aplitude interquartil"
   ]
  },
  {
   "cell_type": "code",
   "execution_count": 137,
   "metadata": {},
   "outputs": [
    {
     "data": {
      "image/png": "[encoded data removed]",
      "text/plain": [
       "<Figure size 648x432 with 1 Axes>"
      ]
     },
     "metadata": {
      "needs_background": "light"
     },
     "output_type": "display_data"
    }
   ],
   "source": [
    "plt.figure(figsize=(9,6))\n",
    "plt.scatter(df_train['suites'],df_train['pricingInfos.price'])\n",
    "plt.xlabel('Suites')\n",
    "plt.ylabel('Price')\n",
    "plt.show()"
   ]
  },
  {
   "cell_type": "code",
   "execution_count": 138,
   "metadata": {},
   "outputs": [
    {
     "name": "stdout",
     "output_type": "stream",
     "text": [
      "-3.0\n",
      "4.0\n"
     ]
    },
    {
     "data": {
      "image/png": "[encoded data removed]",
      "text/plain": [
       "<Figure size 648x432 with 1 Axes>"
      ]
     },
     "metadata": {
      "needs_background": "light"
     },
     "output_type": "display_data"
    }
   ],
   "source": [
    "df_train = outlier_detection(df_train, 'suites')\n",
    "\n",
    "plt.figure(figsize=(9,6))\n",
    "plt.scatter(df_train['suites'],df_train['pricingInfos.price'])\n",
    "plt.xlabel('Suites')\n",
    "plt.ylabel('Price')\n",
    "plt.show()"
   ]
  },
  {
   "cell_type": "markdown",
   "metadata": {},
   "source": [
    "### Monthly Condo Fee\n",
    "#### Gráfico de Monthly Condo Fee em relação ao preço antes e de pois da aplitude interquartil"
   ]
  },
  {
   "cell_type": "code",
   "execution_count": 139,
   "metadata": {},
   "outputs": [
    {
     "data": {
      "image/png": "[encoded data removed]",
      "text/plain": [
       "<Figure size 648x432 with 1 Axes>"
      ]
     },
     "metadata": {
      "needs_background": "light"
     },
     "output_type": "display_data"
    }
   ],
   "source": [
    "plt.figure(figsize=(9,6))\n",
    "plt.scatter(df_train['pricingInfos.monthlyCondoFee'],df_train['pricingInfos.price'])\n",
    "plt.xlabel('Monthly Condo Fee')\n",
    "plt.ylabel('Price')\n",
    "plt.show()"
   ]
  },
  {
   "cell_type": "code",
   "execution_count": 140,
   "metadata": {},
   "outputs": [
    {
     "name": "stdout",
     "output_type": "stream",
     "text": [
      "-1544.0\n",
      "2628.0\n"
     ]
    },
    {
     "data": {
      "image/png": "[encoded data removed]",
      "text/plain": [
       "<Figure size 648x432 with 1 Axes>"
      ]
     },
     "metadata": {
      "needs_background": "light"
     },
     "output_type": "display_data"
    }
   ],
   "source": [
    "df_train = outlier_detection(df_train, 'pricingInfos.monthlyCondoFee')\n",
    "\n",
    "plt.figure(figsize=(9,6))\n",
    "plt.scatter(df_train['pricingInfos.monthlyCondoFee'],df_train['pricingInfos.price'])\n",
    "plt.xlabel('Monthly Condo Fee')\n",
    "plt.ylabel('Price')\n",
    "plt.show()"
   ]
  },
  {
   "cell_type": "markdown",
   "metadata": {},
   "source": [
    "### Price"
   ]
  },
  {
   "cell_type": "code",
   "execution_count": 141,
   "metadata": {},
   "outputs": [
    {
     "data": {
      "text/plain": [
       "count       62,078.000000\n",
       "mean       664,726.895599\n",
       "std        762,449.467170\n",
       "min         10,500.000000\n",
       "25%        269,500.000000\n",
       "50%        455,000.000000\n",
       "75%        805,000.000000\n",
       "max     74,200,000.000000\n",
       "Name: pricingInfos.price, dtype: float64"
      ]
     },
     "execution_count": 141,
     "metadata": {},
     "output_type": "execute_result"
    }
   ],
   "source": [
    "df_train['pricingInfos.price'].describe()"
   ]
  },
  {
   "cell_type": "code",
   "execution_count": 142,
   "metadata": {},
   "outputs": [
    {
     "data": {
      "image/png": "[encoded data removed]",
      "text/plain": [
       "<Figure size 648x432 with 1 Axes>"
      ]
     },
     "metadata": {
      "needs_background": "light"
     },
     "output_type": "display_data"
    }
   ],
   "source": [
    "plt.figure(figsize=(9,6))\n",
    "plt.scatter(df_train['pricingInfos.price'],df_train['pricingInfos.price'])\n",
    "plt.xlabel('Price')\n",
    "plt.ylabel('Price')\n",
    "plt.show()"
   ]
  },
  {
   "cell_type": "code",
   "execution_count": 143,
   "metadata": {},
   "outputs": [
    {
     "name": "stdout",
     "output_type": "stream",
     "text": [
      "-1337000.0\n",
      "2411500.0\n"
     ]
    },
    {
     "data": {
      "image/png": "[encoded data removed]",
      "text/plain": [
       "<Figure size 648x432 with 1 Axes>"
      ]
     },
     "metadata": {
      "needs_background": "light"
     },
     "output_type": "display_data"
    }
   ],
   "source": [
    "df_train = outlier_detection(df_train, 'pricingInfos.price')\n",
    "\n",
    "plt.figure(figsize=(9,6))\n",
    "plt.scatter(df_train['pricingInfos.price'],df_train['pricingInfos.price'])\n",
    "plt.xlabel('pricingInfos.price')\n",
    "plt.ylabel('Price')\n",
    "plt.show()"
   ]
  },
  {
   "cell_type": "markdown",
   "metadata": {},
   "source": [
    "### Parking Spaces"
   ]
  },
  {
   "cell_type": "code",
   "execution_count": 144,
   "metadata": {},
   "outputs": [
    {
     "data": {
      "text/plain": [
       "count   60,571.000000\n",
       "mean         1.581648\n",
       "std          1.349744\n",
       "min          0.000000\n",
       "25%          1.000000\n",
       "50%          1.000000\n",
       "75%          2.000000\n",
       "max        215.000000\n",
       "Name: parkingSpaces, dtype: float64"
      ]
     },
     "execution_count": 144,
     "metadata": {},
     "output_type": "execute_result"
    }
   ],
   "source": [
    "df_train['parkingSpaces'].describe()"
   ]
  },
  {
   "cell_type": "code",
   "execution_count": 145,
   "metadata": {},
   "outputs": [
    {
     "data": {
      "image/png": "[encoded data removed]",
      "text/plain": [
       "<Figure size 648x432 with 1 Axes>"
      ]
     },
     "metadata": {
      "needs_background": "light"
     },
     "output_type": "display_data"
    }
   ],
   "source": [
    "plt.figure(figsize=(9,6))\n",
    "plt.scatter(df_train['parkingSpaces'],df_train['pricingInfos.price'])\n",
    "plt.xlabel('Parking Spaces')\n",
    "plt.ylabel('Price')\n",
    "plt.show()"
   ]
  },
  {
   "cell_type": "markdown",
   "metadata": {},
   "source": [
    "#### Utilizando a função para detectar os limites da amplitude interquartil, como pareceu um pouco baixo, resolvi tratar manualmente"
   ]
  },
  {
   "cell_type": "code",
   "execution_count": 146,
   "metadata": {},
   "outputs": [
    {
     "name": "stdout",
     "output_type": "stream",
     "text": [
      "-2.0\n",
      "5.0\n"
     ]
    }
   ],
   "source": [
    "outlier_detection_nodrop(df_train, 'parkingSpaces')"
   ]
  },
  {
   "cell_type": "code",
   "execution_count": 147,
   "metadata": {},
   "outputs": [
    {
     "data": {
      "text/plain": [
       "<AxesSubplot:xlabel='parkingSpaces'>"
      ]
     },
     "execution_count": 147,
     "metadata": {},
     "output_type": "execute_result"
    },
    {
     "data": {
      "image/png": "[encoded data removed]",
      "text/plain": [
       "<Figure size 648x432 with 1 Axes>"
      ]
     },
     "metadata": {
      "needs_background": "light"
     },
     "output_type": "display_data"
    }
   ],
   "source": [
    "df_train.groupby('parkingSpaces')['pricingInfos.price'].max().plot.bar(figsize=(9,6))"
   ]
  },
  {
   "cell_type": "code",
   "execution_count": 148,
   "metadata": {},
   "outputs": [],
   "source": [
    "df_train = df_train[df_train['parkingSpaces'] <= 20]"
   ]
  },
  {
   "cell_type": "markdown",
   "metadata": {},
   "source": [
    "### Usable Areas"
   ]
  },
  {
   "cell_type": "code",
   "execution_count": 149,
   "metadata": {},
   "outputs": [
    {
     "data": {
      "text/plain": [
       "count    60,567.000000\n",
       "mean        103.369409\n",
       "std         647.017689\n",
       "min           0.000000\n",
       "25%          58.000000\n",
       "50%          78.000000\n",
       "75%         124.000000\n",
       "max     129,000.000000\n",
       "Name: usableAreas, dtype: float64"
      ]
     },
     "execution_count": 149,
     "metadata": {},
     "output_type": "execute_result"
    }
   ],
   "source": [
    "df_train['usableAreas'].describe()"
   ]
  },
  {
   "cell_type": "code",
   "execution_count": 150,
   "metadata": {},
   "outputs": [
    {
     "data": {
      "image/png": "[encoded data removed]",
      "text/plain": [
       "<Figure size 648x432 with 1 Axes>"
      ]
     },
     "metadata": {
      "needs_background": "light"
     },
     "output_type": "display_data"
    }
   ],
   "source": [
    "plt.figure(figsize=(9,6))\n",
    "plt.scatter(df_train['usableAreas'],df_train['pricingInfos.price'])\n",
    "plt.xlabel('Usable Areas')\n",
    "plt.ylabel('Price')\n",
    "plt.show()"
   ]
  },
  {
   "cell_type": "code",
   "execution_count": 151,
   "metadata": {},
   "outputs": [
    {
     "name": "stdout",
     "output_type": "stream",
     "text": [
      "-140.0\n",
      "322.0\n"
     ]
    }
   ],
   "source": [
    "outlier_detection_nodrop(df_train, 'usableAreas')"
   ]
  },
  {
   "cell_type": "code",
   "execution_count": 152,
   "metadata": {},
   "outputs": [
    {
     "name": "stdout",
     "output_type": "stream",
     "text": [
      "-140.0\n",
      "322.0\n"
     ]
    },
    {
     "data": {
      "image/png": "[encoded data removed]",
      "text/plain": [
       "<Figure size 648x432 with 1 Axes>"
      ]
     },
     "metadata": {
      "needs_background": "light"
     },
     "output_type": "display_data"
    }
   ],
   "source": [
    "df_train = outlier_detection(df_train, 'usableAreas')\n",
    "\n",
    "plt.figure(figsize=(9,6))\n",
    "plt.scatter(df_train['usableAreas'],df_train['pricingInfos.price'])\n",
    "plt.xlabel('Usable Areas')\n",
    "plt.ylabel('Price')\n",
    "plt.show()"
   ]
  },
  {
   "cell_type": "markdown",
   "metadata": {},
   "source": [
    "### Yearly IPTU"
   ]
  },
  {
   "cell_type": "code",
   "execution_count": 153,
   "metadata": {},
   "outputs": [
    {
     "data": {
      "image/png": "[encoded data removed]",
      "text/plain": [
       "<Figure size 648x432 with 1 Axes>"
      ]
     },
     "metadata": {
      "needs_background": "light"
     },
     "output_type": "display_data"
    }
   ],
   "source": [
    "plt.figure(figsize=(9,6))\n",
    "plt.scatter(df_train['pricingInfos.yearlyIptu'],df_train['pricingInfos.price'])\n",
    "plt.xlabel('Yearly IPTU')\n",
    "plt.ylabel('Price')\n",
    "plt.show()"
   ]
  },
  {
   "cell_type": "code",
   "execution_count": 154,
   "metadata": {},
   "outputs": [
    {
     "name": "stdout",
     "output_type": "stream",
     "text": [
      "-609.0\n",
      "812.0\n"
     ]
    },
    {
     "data": {
      "image/png": "[encoded data removed]",
      "text/plain": [
       "<Figure size 648x432 with 1 Axes>"
      ]
     },
     "metadata": {
      "needs_background": "light"
     },
     "output_type": "display_data"
    }
   ],
   "source": [
    "df_train = outlier_detection(df_train, 'pricingInfos.yearlyIptu')\n",
    "\n",
    "plt.figure(figsize=(9,6))\n",
    "plt.scatter(df_train['pricingInfos.yearlyIptu'],df_train['pricingInfos.price'])\n",
    "plt.xlabel('Yearly IPTU')\n",
    "plt.ylabel('Price')\n",
    "plt.show()"
   ]
  },
  {
   "cell_type": "markdown",
   "metadata": {},
   "source": [
    "### Total areas"
   ]
  },
  {
   "cell_type": "code",
   "execution_count": 155,
   "metadata": {},
   "outputs": [
    {
     "data": {
      "image/png": "[encoded data removed]",
      "text/plain": [
       "<Figure size 648x432 with 1 Axes>"
      ]
     },
     "metadata": {
      "needs_background": "light"
     },
     "output_type": "display_data"
    }
   ],
   "source": [
    "plt.figure(figsize=(9,6))\n",
    "plt.scatter(df_train['totalAreas'],df_train['pricingInfos.price'])\n",
    "plt.xlabel('Total areas')\n",
    "plt.ylabel('Price')\n",
    "plt.show()"
   ]
  },
  {
   "cell_type": "code",
   "execution_count": 156,
   "metadata": {},
   "outputs": [
    {
     "name": "stdout",
     "output_type": "stream",
     "text": [
      "-282.0\n",
      "376.0\n"
     ]
    },
    {
     "data": {
      "image/png": "[encoded data removed]",
      "text/plain": [
       "<Figure size 648x432 with 1 Axes>"
      ]
     },
     "metadata": {
      "needs_background": "light"
     },
     "output_type": "display_data"
    }
   ],
   "source": [
    "df_train = outlier_detection(df_train, 'totalAreas')\n",
    "\n",
    "plt.figure(figsize=(9,6))\n",
    "plt.scatter(df_train['totalAreas'],df_train['pricingInfos.price'])\n",
    "plt.xlabel('Total areas')\n",
    "plt.ylabel('Price')\n",
    "plt.show()"
   ]
  },
  {
   "cell_type": "markdown",
   "metadata": {},
   "source": [
    "# Feature Engineering"
   ]
  },
  {
   "cell_type": "code",
   "execution_count": 157,
   "metadata": {},
   "outputs": [
    {
     "data": {
      "text/plain": [
       "usableAreas                        float64\n",
       "parkingSpaces                      float64\n",
       "suites                             float64\n",
       "bathrooms                          float64\n",
       "totalAreas                         float64\n",
       "bedrooms                           float64\n",
       "address.neighborhood                object\n",
       "pricingInfos.price                   int64\n",
       "pricingInfos.yearlyIptu            float64\n",
       "pricingInfos.monthlyCondoFee       float64\n",
       "totalAreas_na                        int64\n",
       "pricingInfos.yearlyIptu_na           int64\n",
       "pricingInfos.monthlyCondoFee_na      int64\n",
       "suites_na                            int64\n",
       "parkingSpaces_na                     int64\n",
       "usableAreas_na                       int64\n",
       "bathrooms_na                         int64\n",
       "dtype: object"
      ]
     },
     "execution_count": 157,
     "metadata": {},
     "output_type": "execute_result"
    }
   ],
   "source": [
    "df_train.dtypes"
   ]
  },
  {
   "cell_type": "code",
   "execution_count": 158,
   "metadata": {},
   "outputs": [
    {
     "data": {
      "text/html": [
       "<div>\n",
       "<style scoped>\n",
       "    .dataframe tbody tr th:only-of-type {\n",
       "        vertical-align: middle;\n",
       "    }\n",
       "\n",
       "    .dataframe tbody tr th {\n",
       "        vertical-align: top;\n",
       "    }\n",
       "\n",
       "    .dataframe thead th {\n",
       "        text-align: right;\n",
       "    }\n",
       "</style>\n",
       "<table border=\"1\" class=\"dataframe\">\n",
       "  <thead>\n",
       "    <tr style=\"text-align: right;\">\n",
       "      <th></th>\n",
       "      <th>usableAreas</th>\n",
       "      <th>parkingSpaces</th>\n",
       "      <th>suites</th>\n",
       "      <th>bathrooms</th>\n",
       "      <th>totalAreas</th>\n",
       "      <th>bedrooms</th>\n",
       "      <th>address.neighborhood</th>\n",
       "      <th>pricingInfos.price</th>\n",
       "      <th>pricingInfos.yearlyIptu</th>\n",
       "      <th>pricingInfos.monthlyCondoFee</th>\n",
       "      <th>totalAreas_na</th>\n",
       "      <th>pricingInfos.yearlyIptu_na</th>\n",
       "      <th>pricingInfos.monthlyCondoFee_na</th>\n",
       "      <th>suites_na</th>\n",
       "      <th>parkingSpaces_na</th>\n",
       "      <th>usableAreas_na</th>\n",
       "      <th>bathrooms_na</th>\n",
       "    </tr>\n",
       "  </thead>\n",
       "  <tbody>\n",
       "    <tr>\n",
       "      <th>0</th>\n",
       "      <td>94.000000</td>\n",
       "      <td>2.000000</td>\n",
       "      <td>0.000000</td>\n",
       "      <td>1.000000</td>\n",
       "      <td>0.000000</td>\n",
       "      <td>3.000000</td>\n",
       "      <td>657</td>\n",
       "      <td>630700</td>\n",
       "      <td>489.000000</td>\n",
       "      <td>1,120.000000</td>\n",
       "      <td>0</td>\n",
       "      <td>0</td>\n",
       "      <td>0</td>\n",
       "      <td>0</td>\n",
       "      <td>0</td>\n",
       "      <td>0</td>\n",
       "      <td>0</td>\n",
       "    </tr>\n",
       "    <tr>\n",
       "      <th>1</th>\n",
       "      <td>141.000000</td>\n",
       "      <td>2.000000</td>\n",
       "      <td>3.000000</td>\n",
       "      <td>4.000000</td>\n",
       "      <td>141.000000</td>\n",
       "      <td>4.000000</td>\n",
       "      <td>4</td>\n",
       "      <td>1106000</td>\n",
       "      <td>0.000000</td>\n",
       "      <td>0.000000</td>\n",
       "      <td>0</td>\n",
       "      <td>0</td>\n",
       "      <td>0</td>\n",
       "      <td>0</td>\n",
       "      <td>0</td>\n",
       "      <td>0</td>\n",
       "      <td>0</td>\n",
       "    </tr>\n",
       "    <tr>\n",
       "      <th>2</th>\n",
       "      <td>50.000000</td>\n",
       "      <td>1.000000</td>\n",
       "      <td>0.000000</td>\n",
       "      <td>1.000000</td>\n",
       "      <td>50.000000</td>\n",
       "      <td>2.000000</td>\n",
       "      <td>682</td>\n",
       "      <td>193200</td>\n",
       "      <td>0.000000</td>\n",
       "      <td>322.000000</td>\n",
       "      <td>0</td>\n",
       "      <td>1</td>\n",
       "      <td>0</td>\n",
       "      <td>0</td>\n",
       "      <td>0</td>\n",
       "      <td>0</td>\n",
       "      <td>0</td>\n",
       "    </tr>\n",
       "    <tr>\n",
       "      <th>3</th>\n",
       "      <td>64.000000</td>\n",
       "      <td>2.000000</td>\n",
       "      <td>1.000000</td>\n",
       "      <td>2.000000</td>\n",
       "      <td>66.000000</td>\n",
       "      <td>2.000000</td>\n",
       "      <td>27</td>\n",
       "      <td>350000</td>\n",
       "      <td>118.000000</td>\n",
       "      <td>406.000000</td>\n",
       "      <td>0</td>\n",
       "      <td>0</td>\n",
       "      <td>0</td>\n",
       "      <td>0</td>\n",
       "      <td>0</td>\n",
       "      <td>0</td>\n",
       "      <td>0</td>\n",
       "    </tr>\n",
       "    <tr>\n",
       "      <th>4</th>\n",
       "      <td>55.000000</td>\n",
       "      <td>1.000000</td>\n",
       "      <td>0.000000</td>\n",
       "      <td>1.000000</td>\n",
       "      <td>55.000000</td>\n",
       "      <td>2.000000</td>\n",
       "      <td>860</td>\n",
       "      <td>252629</td>\n",
       "      <td>644.000000</td>\n",
       "      <td>244.000000</td>\n",
       "      <td>0</td>\n",
       "      <td>0</td>\n",
       "      <td>0</td>\n",
       "      <td>0</td>\n",
       "      <td>0</td>\n",
       "      <td>0</td>\n",
       "      <td>0</td>\n",
       "    </tr>\n",
       "  </tbody>\n",
       "</table>\n",
       "</div>"
      ],
      "text/plain": [
       "   usableAreas  parkingSpaces   suites  bathrooms  totalAreas  bedrooms  \\\n",
       "0    94.000000       2.000000 0.000000   1.000000    0.000000  3.000000   \n",
       "1   141.000000       2.000000 3.000000   4.000000  141.000000  4.000000   \n",
       "2    50.000000       1.000000 0.000000   1.000000   50.000000  2.000000   \n",
       "3    64.000000       2.000000 1.000000   2.000000   66.000000  2.000000   \n",
       "4    55.000000       1.000000 0.000000   1.000000   55.000000  2.000000   \n",
       "\n",
       "   address.neighborhood  pricingInfos.price  pricingInfos.yearlyIptu  \\\n",
       "0                   657              630700               489.000000   \n",
       "1                     4             1106000                 0.000000   \n",
       "2                   682              193200                 0.000000   \n",
       "3                    27              350000               118.000000   \n",
       "4                   860              252629               644.000000   \n",
       "\n",
       "   pricingInfos.monthlyCondoFee  totalAreas_na  pricingInfos.yearlyIptu_na  \\\n",
       "0                  1,120.000000              0                           0   \n",
       "1                      0.000000              0                           0   \n",
       "2                    322.000000              0                           1   \n",
       "3                    406.000000              0                           0   \n",
       "4                    244.000000              0                           0   \n",
       "\n",
       "   pricingInfos.monthlyCondoFee_na  suites_na  parkingSpaces_na  \\\n",
       "0                                0          0                 0   \n",
       "1                                0          0                 0   \n",
       "2                                0          0                 0   \n",
       "3                                0          0                 0   \n",
       "4                                0          0                 0   \n",
       "\n",
       "   usableAreas_na  bathrooms_na  \n",
       "0               0             0  \n",
       "1               0             0  \n",
       "2               0             0  \n",
       "3               0             0  \n",
       "4               0             0  "
      ]
     },
     "execution_count": 158,
     "metadata": {},
     "output_type": "execute_result"
    }
   ],
   "source": [
    "le2 = LabelEncoder()\n",
    "le2.fit(df_train['address.neighborhood'])\n",
    "df_train['address.neighborhood'] = le2.transform(df_train['address.neighborhood'])\n",
    "df_train.head()"
   ]
  },
  {
   "cell_type": "markdown",
   "metadata": {},
   "source": [
    "### Fazendo algumas conversões de features"
   ]
  },
  {
   "cell_type": "code",
   "execution_count": 160,
   "metadata": {},
   "outputs": [],
   "source": [
    "for col in df_train.columns:\n",
    "    if '_na' in col:\n",
    "        df_train[col] = df_train[col].astype('bool')\n",
    "for col in df_test.columns:\n",
    "    if '_na' in col:\n",
    "        df_test[col] = df_test[col].astype('bool')\n",
    "        \n",
    "df_train['pricingInfos.price'] = df_train['pricingInfos.price'].astype('float')"
   ]
  },
  {
   "cell_type": "code",
   "execution_count": 161,
   "metadata": {},
   "outputs": [],
   "source": [
    "X = df_train.drop(['pricingInfos.price'], axis=1)\n",
    "y = np.log1p(df_train['pricingInfos.price'].reset_index(drop=True))"
   ]
  },
  {
   "cell_type": "markdown",
   "metadata": {},
   "source": [
    "# Modelo"
   ]
  },
  {
   "cell_type": "markdown",
   "metadata": {},
   "source": [
    "### Random Forest"
   ]
  },
  {
   "cell_type": "markdown",
   "metadata": {},
   "source": [
    "### Utilizando train_test_split para dividir o dataset de treino em teste, e validação."
   ]
  },
  {
   "cell_type": "code",
   "execution_count": 162,
   "metadata": {},
   "outputs": [
    {
     "data": {
      "text/plain": [
       "RandomForestRegressor(max_depth=10, min_samples_leaf=2, random_state=42)"
      ]
     },
     "execution_count": 162,
     "metadata": {},
     "output_type": "execute_result"
    }
   ],
   "source": [
    "X_train, X_test, y_train, y_test = train_test_split(X, y, test_size=0.3, random_state=42)\n",
    "\n",
    "\n",
    "rfg = RandomForestRegressor(n_estimators=100, max_depth=10, min_samples_leaf=2, random_state=42)\n",
    "rfg.fit(X_train, y_train)"
   ]
  },
  {
   "cell_type": "markdown",
   "metadata": {},
   "source": [
    "### Criando função de score para RMSE"
   ]
  },
  {
   "cell_type": "code",
   "execution_count": 163,
   "metadata": {},
   "outputs": [],
   "source": [
    "def score(y_true, y_pred):\n",
    "    return str(math.sqrt(mean_squared_error(y_true, y_pred)))"
   ]
  },
  {
   "cell_type": "markdown",
   "metadata": {},
   "source": [
    "### Calculando score de validação"
   ]
  },
  {
   "cell_type": "code",
   "execution_count": 168,
   "metadata": {},
   "outputs": [
    {
     "name": "stdout",
     "output_type": "stream",
     "text": [
      "0.24734680852321017\n"
     ]
    }
   ],
   "source": [
    "y_pred = rfg.predict(X_test)\n",
    "print(score(y_test, y_pred))"
   ]
  },
  {
   "cell_type": "markdown",
   "metadata": {},
   "source": [
    "### Utilizando grid search para procurar os melhores parâmetros para o random forest"
   ]
  },
  {
   "cell_type": "code",
   "execution_count": 169,
   "metadata": {},
   "outputs": [],
   "source": [
    "params = {\n",
    "    'max_depth': [1, 2, 5, 10, 20 ],\n",
    "    'min_samples_leaf': [10, 20, 50, 100 , 200 , 400],\n",
    "    'max_features': [4 , 8 , 15 , 20],\n",
    "    'n_estimators': [10, 30, 50, 100, 200]\n",
    "}\n",
    "\n",
    "from sklearn.model_selection import GridSearchCV\n",
    "grid_search = GridSearchCV(estimator=rfg, param_grid=params, \n",
    "                          cv=3, n_jobs=-1, verbose=1, scoring = \"neg_mean_squared_error\")"
   ]
  },
  {
   "cell_type": "code",
   "execution_count": 170,
   "metadata": {},
   "outputs": [
    {
     "name": "stdout",
     "output_type": "stream",
     "text": [
      "Fitting 3 folds for each of 600 candidates, totalling 1800 fits\n"
     ]
    },
    {
     "name": "stderr",
     "output_type": "stream",
     "text": [
      "[Parallel(n_jobs=-1)]: Using backend LokyBackend with 8 concurrent workers.\n",
      "[Parallel(n_jobs=-1)]: Done  34 tasks      | elapsed:    8.4s\n",
      "[Parallel(n_jobs=-1)]: Done 184 tasks      | elapsed:   30.8s\n",
      "[Parallel(n_jobs=-1)]: Done 434 tasks      | elapsed:  1.2min\n",
      "[Parallel(n_jobs=-1)]: Done 784 tasks      | elapsed:  2.6min\n",
      "[Parallel(n_jobs=-1)]: Done 1234 tasks      | elapsed:  6.2min\n",
      "[Parallel(n_jobs=-1)]: Done 1784 tasks      | elapsed: 12.3min\n",
      "[Parallel(n_jobs=-1)]: Done 1800 out of 1800 | elapsed: 12.4min finished\n"
     ]
    },
    {
     "name": "stdout",
     "output_type": "stream",
     "text": [
      "CPU times: user 42.2 s, sys: 2.65 s, total: 44.9 s\n",
      "Wall time: 12min 59s\n"
     ]
    },
    {
     "data": {
      "text/plain": [
       "GridSearchCV(cv=3,\n",
       "             estimator=RandomForestRegressor(max_depth=10, min_samples_leaf=2,\n",
       "                                             random_state=42),\n",
       "             n_jobs=-1,\n",
       "             param_grid={'max_depth': [1, 2, 5, 10, 20],\n",
       "                         'max_features': [4, 8, 15, 20],\n",
       "                         'min_samples_leaf': [10, 20, 50, 100, 200, 400],\n",
       "                         'n_estimators': [10, 30, 50, 100, 200]},\n",
       "             scoring='neg_mean_squared_error', verbose=1)"
      ]
     },
     "execution_count": 170,
     "metadata": {},
     "output_type": "execute_result"
    }
   ],
   "source": [
    "%%time\n",
    "grid_search.fit(X_train,y_train)"
   ]
  },
  {
   "cell_type": "markdown",
   "metadata": {},
   "source": [
    "### Modelo final"
   ]
  },
  {
   "cell_type": "code",
   "execution_count": 171,
   "metadata": {},
   "outputs": [],
   "source": [
    "rf_final = grid_search.best_estimator_"
   ]
  },
  {
   "cell_type": "code",
   "execution_count": 172,
   "metadata": {},
   "outputs": [
    {
     "data": {
      "text/plain": [
       "RandomForestRegressor(max_depth=20, max_features=15, min_samples_leaf=10,\n",
       "                      n_estimators=200, random_state=42)"
      ]
     },
     "execution_count": 172,
     "metadata": {},
     "output_type": "execute_result"
    }
   ],
   "source": [
    "rf_final"
   ]
  },
  {
   "cell_type": "code",
   "execution_count": 173,
   "metadata": {},
   "outputs": [
    {
     "data": {
      "text/plain": [
       "RandomForestRegressor(max_depth=20, max_features=15, min_samples_leaf=10,\n",
       "                      n_estimators=200, random_state=42)"
      ]
     },
     "execution_count": 173,
     "metadata": {},
     "output_type": "execute_result"
    }
   ],
   "source": [
    "rf_final.fit(X_train, y_train)"
   ]
  },
  {
   "cell_type": "code",
   "execution_count": 174,
   "metadata": {},
   "outputs": [
    {
     "name": "stdout",
     "output_type": "stream",
     "text": [
      "0.23606440721028923\n"
     ]
    }
   ],
   "source": [
    "y_pred = rf_final.predict(X_test)\n",
    "print(score(y_test, y_pred))"
   ]
  },
  {
   "cell_type": "code",
   "execution_count": null,
   "metadata": {},
   "outputs": [],
   "source": []
  },
  {
   "cell_type": "code",
   "execution_count": null,
   "metadata": {},
   "outputs": [],
   "source": []
  },
  {
   "cell_type": "code",
   "execution_count": null,
   "metadata": {},
   "outputs": [],
   "source": []
  }
 ],
 "metadata": {
  "kernelspec": {
   "display_name": "Python 3",
   "language": "python",
   "name": "python3"
  },
  "language_info": {
   "codemirror_mode": {
    "name": "ipython",
    "version": 3
   },
   "file_extension": ".py",
   "mimetype": "text/x-python",
   "name": "python",
   "nbconvert_exporter": "python",
   "pygments_lexer": "ipython3",
   "version": "3.7.4"
  }
 },
 "nbformat": 4,
 "nbformat_minor": 4
}
